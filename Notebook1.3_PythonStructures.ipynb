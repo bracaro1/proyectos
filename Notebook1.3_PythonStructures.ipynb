{
 "cells": [
  {
   "cell_type": "markdown",
   "metadata": {},
   "source": [
    "# Estructuras de datos: arrays, diccionarios, series y dataframes"
   ]
  },
  {
   "cell_type": "markdown",
   "metadata": {},
   "source": [
    "## Carga de librerías base"
   ]
  },
  {
   "cell_type": "code",
   "execution_count": 2,
   "metadata": {
    "ExecuteTime": {
     "end_time": "2024-04-13T05:15:18.471055Z",
     "start_time": "2024-04-13T05:15:18.451495Z"
    }
   },
   "outputs": [],
   "source": [
    "import numpy as np\n",
    "import pandas as pd"
   ]
  },
  {
   "cell_type": "markdown",
   "metadata": {},
   "source": [
    "## 1. Creación de arrays con Numpy"
   ]
  },
  {
   "cell_type": "code",
   "execution_count": 3,
   "metadata": {
    "ExecuteTime": {
     "end_time": "2024-04-13T05:07:15.583031Z",
     "start_time": "2024-04-13T05:07:14.910053Z"
    }
   },
   "outputs": [
    {
     "name": "stdout",
     "output_type": "stream",
     "text": [
      "<class 'list'> [3, 2, 5, 8, 4, 9, 5]\n",
      "<class 'numpy.ndarray'> [3 2 5 8 4 9 5]\n",
      "[ True False False False]\n"
     ]
    }
   ],
   "source": [
    "# #Creating 1D arrays from list\n",
    "\n",
    "list1D = [3, 2, 5, 8, 4, 9, 5]\n",
    "print(type(list1D), list1D)\n",
    "\n",
    "npArray = np.array(list1D)\n",
    "print(type(npArray), npArray)\n",
    "\n",
    "# Creación directa\n",
    "print(np.array([1, 0, 0, 0], dtype=bool))"
   ]
  },
  {
   "cell_type": "code",
   "execution_count": 4,
   "metadata": {
    "ExecuteTime": {
     "end_time": "2024-04-13T04:31:10.205065Z",
     "start_time": "2024-04-13T04:31:10.144063Z"
    }
   },
   "outputs": [
    {
     "name": "stdout",
     "output_type": "stream",
     "text": [
      "<class 'numpy.ndarray'> [[ 1  2  3  4]\n",
      " [ 5  6  7  8]\n",
      " [ 9  0 10 11]]\n"
     ]
    }
   ],
   "source": [
    "#Creating 2D arrays from list\n",
    "\n",
    "list2D = [[1,2,3,4],\n",
    "        [5,6,7,8], \n",
    "        [9,0,10,11]]\n",
    "\n",
    "npArray = np.array(list2D)\n",
    "\n",
    "print(type(npArray), npArray)"
   ]
  },
  {
   "cell_type": "markdown",
   "metadata": {},
   "source": [
    "<b> Diferencias entre objetos de tipo list y array\n",
    "    \n",
    "- Una lista puede contener diferentes datos de diferentes tipos.\n",
    "- Un array de numpy solo puede contener datos del misto tipo.\n",
    "    \n",
    "Cuando enviamos diferentes tipos de datos ocurre una conversión automática."
   ]
  },
  {
   "cell_type": "code",
   "execution_count": 4,
   "metadata": {},
   "outputs": [
    {
     "name": "stdout",
     "output_type": "stream",
     "text": [
      "['1' 'casa' 'True' '1.5']\n",
      "[1.  7.8 1.  1.5]\n"
     ]
    }
   ],
   "source": [
    "# Conversión automática de tipos de datos:\n",
    "listD = [1, 'casa', True, 1.5]\n",
    "arrayD = np.array(listD); print(arrayD)\n",
    "\n",
    "listD = [1, 7.8, True ,1.5]\n",
    "arrayD = np.array(listD); print(arrayD)"
   ]
  },
  {
   "cell_type": "code",
   "execution_count": 5,
   "metadata": {},
   "outputs": [
    {
     "name": "stdout",
     "output_type": "stream",
     "text": [
      "[0. 0. 0. 0. 0. 0. 0. 0. 0. 0.]\n",
      "[0.51578995 0.93063139 0.41965511 0.39020147 0.65533443 0.83087084\n",
      " 0.45689399 0.45602502 0.15693534 0.08895028]\n",
      "[0 1 2 3 4 5 6 7 8 9]\n",
      "[[0. 0.]\n",
      " [0. 0.]\n",
      " [0. 0.]]\n"
     ]
    }
   ],
   "source": [
    "# Funciones para crear arrays desde 0\n",
    "\n",
    "print(np.zeros(10)) # array de 10 ceros.\n",
    "\n",
    "print(np.random.random(10)) # array de números aleatorios\n",
    "\n",
    "print(np.arange(10)) # array de los primeros 10 números, incluído el 0\n",
    "\n",
    "# Para crear arreglos de más de una dimensión se deben enviar las dimensiones:\n",
    "print(np.zeros((3, 2))) # array de ceros de dimensión 3x2."
   ]
  },
  {
   "cell_type": "code",
   "execution_count": 6,
   "metadata": {},
   "outputs": [
    {
     "name": "stdout",
     "output_type": "stream",
     "text": [
      "3\n",
      "3\n",
      "(3, 4)\n",
      "<class 'list'>\n",
      "int64\n"
     ]
    }
   ],
   "source": [
    "# Dimensión de lista y arreglos:\n",
    "\n",
    "print(len(list2D)) # lista\n",
    "\n",
    "print(len(npArray)) # arreglo\n",
    "\n",
    "print(npArray.shape) # arreglo\n",
    "\n",
    "# Tipos de datos:\n",
    "\n",
    "print(type(list2D)) # para lista\n",
    "print(npArray.dtype) # para elementos del array"
   ]
  },
  {
   "cell_type": "code",
   "execution_count": 7,
   "metadata": {},
   "outputs": [
    {
     "name": "stdout",
     "output_type": "stream",
     "text": [
      "[[1, 2, 3, 4], [5, 6, 7, 8], [9, 0, 10, 11]]\n",
      "1\n",
      "2\n",
      "3\n",
      "4\n",
      "5\n",
      "6\n",
      "7\n",
      "8\n",
      "9\n",
      "0\n",
      "10\n",
      "11\n",
      "Fila 0) [1, 2, 3, 4]\n",
      "Elemento 0 de la fila 0) 1\n"
     ]
    }
   ],
   "source": [
    "# Acceso y recorrido:\n",
    "print(list2D)\n",
    "\n",
    "for i in list2D: # array bidimensional\n",
    "    for j in i:\n",
    "        print(j)\n",
    "        \n",
    "# El acceso a un elemento específico se realiza por su posición:\n",
    "print('Fila 0)', list2D[0])\n",
    "\n",
    "print('Elemento 0 de la fila 0)', list2D[0][0])"
   ]
  },
  {
   "cell_type": "markdown",
   "metadata": {},
   "source": [
    "## 2. Series\n",
    "\n",
    "Una <b>Serie</b> es un vector que puede contener cualquier tipo de datos (integer, string, float, Python object, etc.). Las etiquetas de los ejes se denominan colectivamente índice.\n",
    "\n",
    "\n",
    "> s = pd.Series(data, index=index)\n",
    "\n",
    "<b>data</b> puede ser:\n",
    "\n",
    "- un valor escalar\n",
    "- una lista o un ndarray\n",
    "- un diccionario python\n",
    "\n",
    "\n",
    "<b> El accesso a elementos de una serie se puede realizar a través de dos métodos:</b>\n",
    "\n",
    "- Por su posición\n",
    "- Por su índice\n",
    "\n",
    "#### Creación de series:\n",
    "\n",
    "<b>a. Creación de una serie a partir de un tipo de dato simple</b>"
   ]
  },
  {
   "cell_type": "code",
   "execution_count": 8,
   "metadata": {},
   "outputs": [
    {
     "name": "stdout",
     "output_type": "stream",
     "text": [
      "letter as series 0    a\n",
      "dtype: object\n",
      "<class 'pandas.core.series.Series'>\n"
     ]
    }
   ],
   "source": [
    "# To create:\n",
    "s = pd.Series('a'); print('letter as series', s)  # from a str (object)\n",
    "\n",
    "print(type(s))  # <class 'pandas.core.series.Series'>"
   ]
  },
  {
   "cell_type": "code",
   "execution_count": 9,
   "metadata": {},
   "outputs": [
    {
     "name": "stdout",
     "output_type": "stream",
     "text": [
      "\n",
      "number as series 0    5\n",
      "dtype: int64\n",
      "\n",
      "---------ACCESS-----------\n",
      "\n",
      "Access to the content: 5\n",
      "\n",
      "Access to the content and convert into a serie: 0    5\n",
      "dtype: int64\n"
     ]
    }
   ],
   "source": [
    "s = pd.Series(5); print('\\nnumber as series', s) # from a number\n",
    "# To access:\n",
    "\n",
    "print('\\n---------ACCESS-----------')\n",
    "print('\\nAccess to the content:', s[0])\n",
    "print('\\nAccess to the content and convert into a serie:', s[[0]])  # Acceder al contenido y convertir en serie "
   ]
  },
  {
   "cell_type": "markdown",
   "metadata": {},
   "source": [
    "<b> b. Creación de una serie a partir de una lista o array</b>"
   ]
  },
  {
   "cell_type": "code",
   "execution_count": 10,
   "metadata": {},
   "outputs": [
    {
     "data": {
      "text/plain": [
       "[1, 2, 3, 4, 5]"
      ]
     },
     "execution_count": 10,
     "metadata": {},
     "output_type": "execute_result"
    }
   ],
   "source": [
    "data = list(range(1,6))  # [1, 2, 3, 4, 5]\n",
    "data"
   ]
  },
  {
   "cell_type": "code",
   "execution_count": 11,
   "metadata": {},
   "outputs": [
    {
     "name": "stdout",
     "output_type": "stream",
     "text": [
      "Índices por defecto\n",
      " 0    1\n",
      "1    2\n",
      "2    3\n",
      "3    4\n",
      "4    5\n",
      "dtype: int64\n",
      "\n",
      "Segundo elemento:  2\n",
      "\n",
      "Primeros dos elementos:  0    1\n",
      "1    2\n",
      "dtype: int64\n",
      "\n",
      "Rango de elementos (slice):  1    2\n",
      "2    3\n",
      "dtype: int64\n"
     ]
    }
   ],
   "source": [
    "# Sin especificar índice, éste inicia desde 0\n",
    "s = pd.Series(data) ; print('Índices por defecto\\n', s)\n",
    "\n",
    "# Acceso por su posición:\n",
    "print('\\nSegundo elemento: ', s[1])\n",
    "\n",
    "print('\\nPrimeros dos elementos: ', s[:2])\n",
    "\n",
    "print('\\nRango de elementos (slice): ', s[1:3])"
   ]
  },
  {
   "cell_type": "code",
   "execution_count": 12,
   "metadata": {},
   "outputs": [
    {
     "name": "stdout",
     "output_type": "stream",
     "text": [
      "Índices pre-asignados\n",
      " a    1\n",
      "e    2\n",
      "i    3\n",
      "o    4\n",
      "u    5\n",
      "dtype: int64\n",
      "\n",
      "Segundo elemento:  2  por su posición:  2\n"
     ]
    }
   ],
   "source": [
    "# Especificando un índice\n",
    "index=['a', 'e', 'i', 'o', 'u']\n",
    "s = pd.Series(data, index=index) ; print('Índices pre-asignados\\n', s)\n",
    "\n",
    "# s = pd.Series(np.array(data), index=index)  # from array\n",
    "\n",
    "# Acceso mediante su índice o posición:\n",
    "\n",
    "print('\\nSegundo elemento: ', s['e'], ' por su posición: ', s[1])"
   ]
  },
  {
   "cell_type": "code",
   "execution_count": 13,
   "metadata": {},
   "outputs": [
    {
     "data": {
      "text/plain": [
       "a    0.918363\n",
       "e   -0.071881\n",
       "i   -0.209027\n",
       "o   -1.124497\n",
       "u   -0.589781\n",
       "dtype: float64"
      ]
     },
     "execution_count": 13,
     "metadata": {},
     "output_type": "execute_result"
    }
   ],
   "source": [
    "s = pd.Series(np.random.randn(5), index=index); s"
   ]
  },
  {
   "cell_type": "markdown",
   "metadata": {},
   "source": [
    "<b>c. Creación de una serie a partir de un diccionario</b>"
   ]
  },
  {
   "cell_type": "code",
   "execution_count": 14,
   "metadata": {},
   "outputs": [],
   "source": [
    "vacunaDict = {'Asia': 'Israel', 'Sur América': 'Chile'}"
   ]
  },
  {
   "cell_type": "code",
   "execution_count": 15,
   "metadata": {},
   "outputs": [
    {
     "name": "stdout",
     "output_type": "stream",
     "text": [
      "Chile\n"
     ]
    },
    {
     "data": {
      "text/plain": [
       "'Chile'"
      ]
     },
     "execution_count": 15,
     "metadata": {},
     "output_type": "execute_result"
    }
   ],
   "source": [
    "vacunaSerie = pd.Series(vacunaDict); vacunaSerie\n",
    "print(vacunaSerie['Sur América']) # acceso por el índice\n",
    "vacunaSerie[1] # acceso por la posición"
   ]
  },
  {
   "cell_type": "code",
   "execution_count": null,
   "metadata": {},
   "outputs": [],
   "source": [
    "## 3. Diccionarios"
   ]
  },
  {
   "cell_type": "code",
   "execution_count": 16,
   "metadata": {
    "tags": []
   },
   "outputs": [],
   "source": [
    "# Declaración de un empleado\n",
    "employee1 = {\n",
    "'name': 'María',\n",
    "'city': 'Loja',\n",
    "'age': '26',\n",
    "'gender': 'M',\n",
    "'roles':['data analyst', 'master student']\n",
    "}"
   ]
  },
  {
   "cell_type": "code",
   "execution_count": 17,
   "metadata": {
    "tags": []
   },
   "outputs": [
    {
     "name": "stdout",
     "output_type": "stream",
     "text": [
      "Keys: \n",
      " dict_keys(['name', 'city', 'age', 'gender', 'roles'])\n",
      "\n",
      "Values: \n",
      " dict_values(['María', 'Loja', '26', 'M', ['data analyst', 'master student']])\n",
      "Forma1: María \tForma2: María\n",
      "\n",
      "Data:\n",
      "\t name María\n",
      "\t city Loja\n",
      "\t age 26\n",
      "\t gender M\n",
      "\t roles ['data analyst', 'master student']\n"
     ]
    }
   ],
   "source": [
    "# Acceso a claves un diccionario:\n",
    "keys = employee1.keys()\n",
    "print('Keys: \\n', keys)\n",
    "\n",
    "# Acceso a valores de un diccionario:\n",
    "valuesE = employee1.values()\n",
    "print('\\nValues: \\n', valuesE)\n",
    "\n",
    "# Acceso a un valor específico, por ejemplo, el nombre:\n",
    "print('Forma1:', employee1[\"name\"], '\\tForma2:', employee1.get(\"name\"))\n",
    "\n",
    "print('\\nData:')\n",
    "\n",
    "# Print all key names and values in the dictionary, one by one\n",
    "for key in employee1:\n",
    "    value = employee1[key] \n",
    "    print('\\t',key, value) "
   ]
  },
  {
   "cell_type": "code",
   "execution_count": 9,
   "metadata": {
    "tags": []
   },
   "outputs": [
    {
     "name": "stdout",
     "output_type": "stream",
     "text": [
      "[{'cédula': '1105742261', 'nombres': 'Jose Vasquez', 'edad': '20', 'carrera': 'arquitectura', 'asignaturas': {'dibujo': 7, 'moldeado': 8.5}, 'promedio': 7.75}, {'cédula': '1103385914', 'nombres': 'Enith Calva', 'edad': '21', 'carrera': 'computacion', 'asignaturas': {'programacion': 7.5, 'base de datos': 9}, 'promedio': 8.25}]\n"
     ]
    }
   ],
   "source": [
    "#Lista de estudiantes:\n",
    "estudiantes = [{\n",
    "               \"cédula\":\"1105742261\",\n",
    "               \"nombres\":\"Jose Vasquez\",\n",
    "               \"edad\":\"20\",\n",
    "               \"carrera\":\"arquitectura\",\n",
    "               \"asignaturas\":{\n",
    "                   \"dibujo\":7,\n",
    "                   \"moldeado\":8.5\n",
    "               },\n",
    "               \"promedio\":7.75\n",
    "               },\n",
    "              {\n",
    "               \"cédula\":\"1103385914\",\n",
    "               \"nombres\":\"Enith Calva\",\n",
    "               \"edad\":\"21\",\n",
    "               \"carrera\":\"computacion\",\n",
    "               \"asignaturas\":{\n",
    "                   \"programacion\":7.5,\n",
    "                   \"base de datos\":9\n",
    "               },\n",
    "               \"promedio\":8.25\n",
    "               }\n",
    "]; print(estudiantes)"
   ]
  },
  {
   "cell_type": "code",
   "execution_count": 10,
   "metadata": {
    "tags": []
   },
   "outputs": [
    {
     "name": "stdout",
     "output_type": "stream",
     "text": [
      "Longitud de la lista: 2 . Cada componente de la lista es un diccionario.\n",
      "\n",
      "Claves de cada elemento de la lista (diccionario):\n",
      "\t dict_keys(['cédula', 'nombres', 'edad', 'carrera', 'asignaturas', 'promedio']) \n",
      "\n",
      "\n",
      "Obtención de datos, forma 1:\n",
      "----- 1105742261 Jose Vasquez 20 arquitectura {'dibujo': 7, 'moldeado': 8.5} 7.75\n",
      "----- 1103385914 Enith Calva 21 computacion {'programacion': 7.5, 'base de datos': 9} 8.25\n",
      "\n",
      "Obtención de datos, forma 2:\n",
      "----- ( cédula : 1105742261 )\n",
      "----- ( nombres : Jose Vasquez )\n",
      "----- ( edad : 20 )\n",
      "----- ( carrera : arquitectura )\n",
      "----- ( asignaturas : dibujo, moldeado )\n",
      "----- ( promedio : 7.75 )\n",
      "----- ( cédula : 1103385914 )\n",
      "----- ( nombres : Enith Calva )\n",
      "----- ( edad : 21 )\n",
      "----- ( carrera : computacion )\n",
      "----- ( asignaturas : programacion, base de datos )\n",
      "----- ( promedio : 8.25 )\n"
     ]
    }
   ],
   "source": [
    "# Recorrido de una lista de diccionarios:\n",
    "print('Longitud de la lista:', len(estudiantes),\n",
    "      '. Cada componente de la lista es un diccionario.\\n')\n",
    "print('Claves de cada elemento de la lista (diccionario):\\n\\t',\n",
    "      estudiantes[0].keys(), '\\n')\n",
    "\n",
    "print('\\nObtención de datos, forma 1:')\n",
    "\n",
    "#Forma 1: un solo ciclo repetitivo:\n",
    "for e in estudiantes:\n",
    "    #Imprimir solo valores:\n",
    "    print(5*'-',e.get('cédula'), e['nombres'], e['edad'],\n",
    "          e['carrera'], e['asignaturas'], e['promedio'])\n",
    "\n",
    "print('\\nObtención de datos, forma 2:')\n",
    "#Forma 2: dos ciclos:\n",
    "for e in estudiantes:\n",
    "    #Imprimir solo valores:\n",
    "    for k in e:\n",
    "        if not(isinstance(e[k], dict)):\n",
    "            print(5*'-','(',k, ':', e[k], ')')\n",
    "        else:\n",
    "            print(5*'-','(',k, ':', ', '.join(e[k]), ')')"
   ]
  },
  {
   "cell_type": "code",
   "execution_count": null,
   "metadata": {},
   "outputs": [],
   "source": []
  },
  {
   "cell_type": "code",
   "execution_count": null,
   "metadata": {},
   "outputs": [],
   "source": [
    "## 4. DataFrames"
   ]
  },
  {
   "cell_type": "markdown",
   "metadata": {},
   "source": [
    "### Creación\n",
    "\n",
    "- Creación desde un diccionario:"
   ]
  },
  {
   "cell_type": "code",
   "execution_count": 20,
   "metadata": {},
   "outputs": [
    {
     "data": {
      "text/html": [
       "<div>\n",
       "<style scoped>\n",
       "    .dataframe tbody tr th:only-of-type {\n",
       "        vertical-align: middle;\n",
       "    }\n",
       "\n",
       "    .dataframe tbody tr th {\n",
       "        vertical-align: top;\n",
       "    }\n",
       "\n",
       "    .dataframe thead th {\n",
       "        text-align: right;\n",
       "    }\n",
       "</style>\n",
       "<table border=\"1\" class=\"dataframe\">\n",
       "  <thead>\n",
       "    <tr style=\"text-align: right;\">\n",
       "      <th></th>\n",
       "      <th>studentID</th>\n",
       "      <th>grades</th>\n",
       "    </tr>\n",
       "  </thead>\n",
       "  <tbody>\n",
       "    <tr>\n",
       "      <th>FDA</th>\n",
       "      <td>123</td>\n",
       "      <td>7.5</td>\n",
       "    </tr>\n",
       "    <tr>\n",
       "      <th>POO</th>\n",
       "      <td>123</td>\n",
       "      <td>8.1</td>\n",
       "    </tr>\n",
       "  </tbody>\n",
       "</table>\n",
       "</div>"
      ],
      "text/plain": [
       "    studentID  grades\n",
       "FDA       123     7.5\n",
       "POO       123     8.1"
      ]
     },
     "execution_count": 20,
     "metadata": {},
     "output_type": "execute_result"
    }
   ],
   "source": [
    "student1 = {\n",
    "    \"studentID\": '123',\n",
    "    \"grades\": {'FDA': 7.5, 'POO': 8.1},\n",
    "    }\n",
    "df1 = pd.DataFrame(student1);\n",
    "\n",
    "# Inspección mediante head (primeros 5 filas) y tail (últimas 5 filas):\n",
    "df1.head()"
   ]
  },
  {
   "cell_type": "code",
   "execution_count": 21,
   "metadata": {},
   "outputs": [
    {
     "name": "stdout",
     "output_type": "stream",
     "text": [
      "studentID    123\n",
      "grades       7.5\n",
      "Name: FDA, dtype: object\n",
      "\n",
      " studentID    123\n",
      "grades       7.5\n",
      "Name: FDA, dtype: object\n"
     ]
    }
   ],
   "source": [
    "# acceder a la primera fila:\n",
    "\n",
    "print(df1.loc['FDA']) # acceder al contenido de toda la fila a través del nombre de la fila\n",
    "\n",
    "print('\\n', df1.iloc[0])  # acceder a través de la posición\n"
   ]
  },
  {
   "cell_type": "code",
   "execution_count": 22,
   "metadata": {},
   "outputs": [
    {
     "name": "stdout",
     "output_type": "stream",
     "text": [
      "\n",
      "\n",
      "FDA    123\n",
      "POO    123\n",
      "Name: studentID, dtype: object\n",
      "    studentID\n",
      "FDA       123\n",
      "POO       123\n"
     ]
    }
   ],
   "source": [
    "# accceder a una columna específica:\n",
    "print('\\n')\n",
    "print(df1['studentID']) #acceder a una columna específica, como serie\n",
    "print(df1[['studentID']]) #acceder a una columna específica, como dataframe"
   ]
  },
  {
   "cell_type": "code",
   "execution_count": 23,
   "metadata": {},
   "outputs": [
    {
     "data": {
      "text/plain": [
       "7.5"
      ]
     },
     "execution_count": 23,
     "metadata": {},
     "output_type": "execute_result"
    }
   ],
   "source": [
    "# acceder a un elemento específico\n",
    "\n",
    "df1.loc['FDA']['grades'] "
   ]
  },
  {
   "cell_type": "code",
   "execution_count": 24,
   "metadata": {},
   "outputs": [
    {
     "data": {
      "text/plain": [
       "studentID     object\n",
       "grades       float64\n",
       "dtype: object"
      ]
     },
     "execution_count": 24,
     "metadata": {},
     "output_type": "execute_result"
    }
   ],
   "source": [
    "# Tipos de datos del dataframe\n",
    "df1.dtypes"
   ]
  },
  {
   "cell_type": "code",
   "execution_count": 25,
   "metadata": {},
   "outputs": [
    {
     "data": {
      "text/plain": [
       "Index(['studentID', 'grades'], dtype='object')"
      ]
     },
     "execution_count": 25,
     "metadata": {},
     "output_type": "execute_result"
    }
   ],
   "source": [
    "df1.columns"
   ]
  },
  {
   "cell_type": "code",
   "execution_count": 26,
   "metadata": {},
   "outputs": [
    {
     "name": "stdout",
     "output_type": "stream",
     "text": [
      "studentID <class 'pandas.core.series.Series'>\n",
      "grades <class 'pandas.core.series.Series'>\n",
      "studentID <class 'str'>\n",
      "grades <class 'numpy.float64'>\n"
     ]
    }
   ],
   "source": [
    "# Un atributo de un dataframe se extrae como Series:\n",
    "for c in df1.columns:\n",
    "    print(c, type(df1[c]))\n",
    "\n",
    "# Tipo de dato específico del primer elemento de cada serie:\n",
    "for c in df1.columns:\n",
    "    print(c, type(df1[c][0]))"
   ]
  },
  {
   "cell_type": "markdown",
   "metadata": {},
   "source": [
    "- <b> Creación desde un archivo csv:</b>"
   ]
  },
  {
   "cell_type": "code",
   "execution_count": 9,
   "metadata": {},
   "outputs": [
    {
     "data": {
      "text/html": [
       "<div>\n",
       "<style scoped>\n",
       "    .dataframe tbody tr th:only-of-type {\n",
       "        vertical-align: middle;\n",
       "    }\n",
       "\n",
       "    .dataframe tbody tr th {\n",
       "        vertical-align: top;\n",
       "    }\n",
       "\n",
       "    .dataframe thead th {\n",
       "        text-align: right;\n",
       "    }\n",
       "</style>\n",
       "<table border=\"1\" class=\"dataframe\">\n",
       "  <thead>\n",
       "    <tr style=\"text-align: right;\">\n",
       "      <th></th>\n",
       "      <th>PassengerId</th>\n",
       "      <th>Survived</th>\n",
       "      <th>Pclass</th>\n",
       "      <th>Name</th>\n",
       "      <th>Sex</th>\n",
       "      <th>Age</th>\n",
       "      <th>SibSp</th>\n",
       "      <th>Parch</th>\n",
       "      <th>Ticket</th>\n",
       "      <th>Fare</th>\n",
       "      <th>Cabin</th>\n",
       "      <th>Embarked</th>\n",
       "    </tr>\n",
       "  </thead>\n",
       "  <tbody>\n",
       "    <tr>\n",
       "      <th>284</th>\n",
       "      <td>285</td>\n",
       "      <td>0</td>\n",
       "      <td>1</td>\n",
       "      <td>Smith, Mr. Richard William</td>\n",
       "      <td>male</td>\n",
       "      <td>NaN</td>\n",
       "      <td>0</td>\n",
       "      <td>0</td>\n",
       "      <td>113056</td>\n",
       "      <td>26.0000</td>\n",
       "      <td>A19</td>\n",
       "      <td>S</td>\n",
       "    </tr>\n",
       "    <tr>\n",
       "      <th>196</th>\n",
       "      <td>197</td>\n",
       "      <td>0</td>\n",
       "      <td>3</td>\n",
       "      <td>Mernagh, Mr. Robert</td>\n",
       "      <td>male</td>\n",
       "      <td>NaN</td>\n",
       "      <td>0</td>\n",
       "      <td>0</td>\n",
       "      <td>368703</td>\n",
       "      <td>7.7500</td>\n",
       "      <td>NaN</td>\n",
       "      <td>Q</td>\n",
       "    </tr>\n",
       "    <tr>\n",
       "      <th>285</th>\n",
       "      <td>286</td>\n",
       "      <td>0</td>\n",
       "      <td>3</td>\n",
       "      <td>Stankovic, Mr. Ivan</td>\n",
       "      <td>male</td>\n",
       "      <td>33.0</td>\n",
       "      <td>0</td>\n",
       "      <td>0</td>\n",
       "      <td>349239</td>\n",
       "      <td>8.6625</td>\n",
       "      <td>NaN</td>\n",
       "      <td>C</td>\n",
       "    </tr>\n",
       "    <tr>\n",
       "      <th>330</th>\n",
       "      <td>331</td>\n",
       "      <td>1</td>\n",
       "      <td>3</td>\n",
       "      <td>McCoy, Miss. Agnes</td>\n",
       "      <td>female</td>\n",
       "      <td>NaN</td>\n",
       "      <td>2</td>\n",
       "      <td>0</td>\n",
       "      <td>367226</td>\n",
       "      <td>23.2500</td>\n",
       "      <td>NaN</td>\n",
       "      <td>Q</td>\n",
       "    </tr>\n",
       "    <tr>\n",
       "      <th>156</th>\n",
       "      <td>157</td>\n",
       "      <td>1</td>\n",
       "      <td>3</td>\n",
       "      <td>Gilnagh, Miss. Katherine \"Katie\"</td>\n",
       "      <td>female</td>\n",
       "      <td>16.0</td>\n",
       "      <td>0</td>\n",
       "      <td>0</td>\n",
       "      <td>35851</td>\n",
       "      <td>7.7333</td>\n",
       "      <td>NaN</td>\n",
       "      <td>Q</td>\n",
       "    </tr>\n",
       "    <tr>\n",
       "      <th>253</th>\n",
       "      <td>254</td>\n",
       "      <td>0</td>\n",
       "      <td>3</td>\n",
       "      <td>Lobb, Mr. William Arthur</td>\n",
       "      <td>male</td>\n",
       "      <td>30.0</td>\n",
       "      <td>1</td>\n",
       "      <td>0</td>\n",
       "      <td>A/5. 3336</td>\n",
       "      <td>16.1000</td>\n",
       "      <td>NaN</td>\n",
       "      <td>S</td>\n",
       "    </tr>\n",
       "    <tr>\n",
       "      <th>618</th>\n",
       "      <td>619</td>\n",
       "      <td>1</td>\n",
       "      <td>2</td>\n",
       "      <td>Becker, Miss. Marion Louise</td>\n",
       "      <td>female</td>\n",
       "      <td>4.0</td>\n",
       "      <td>2</td>\n",
       "      <td>1</td>\n",
       "      <td>230136</td>\n",
       "      <td>39.0000</td>\n",
       "      <td>F4</td>\n",
       "      <td>S</td>\n",
       "    </tr>\n",
       "  </tbody>\n",
       "</table>\n",
       "</div>"
      ],
      "text/plain": [
       "     PassengerId  Survived  Pclass                              Name     Sex  \\\n",
       "284          285         0       1        Smith, Mr. Richard William    male   \n",
       "196          197         0       3               Mernagh, Mr. Robert    male   \n",
       "285          286         0       3               Stankovic, Mr. Ivan    male   \n",
       "330          331         1       3                McCoy, Miss. Agnes  female   \n",
       "156          157         1       3  Gilnagh, Miss. Katherine \"Katie\"  female   \n",
       "253          254         0       3          Lobb, Mr. William Arthur    male   \n",
       "618          619         1       2       Becker, Miss. Marion Louise  female   \n",
       "\n",
       "      Age  SibSp  Parch     Ticket     Fare Cabin Embarked  \n",
       "284   NaN      0      0     113056  26.0000   A19        S  \n",
       "196   NaN      0      0     368703   7.7500   NaN        Q  \n",
       "285  33.0      0      0     349239   8.6625   NaN        C  \n",
       "330   NaN      2      0     367226  23.2500   NaN        Q  \n",
       "156  16.0      0      0      35851   7.7333   NaN        Q  \n",
       "253  30.0      1      0  A/5. 3336  16.1000   NaN        S  \n",
       "618   4.0      2      1     230136  39.0000    F4        S  "
      ]
     },
     "execution_count": 9,
     "metadata": {},
     "output_type": "execute_result"
    }
   ],
   "source": [
    "# Crear desde un csv:\n",
    "\n",
    "data = pd.read_csv('titanic.csv', sep=','); data.sample(7)\n",
    "\n",
    "\n",
    "# También se puede utilizar read_table para cualquier archivo basado en texto:\n",
    "#data = pd.read_table('titanic.csv', sep=',')"
   ]
  },
  {
   "cell_type": "markdown",
   "metadata": {},
   "source": [
    "### Acceso y filtrado de datos:"
   ]
  },
  {
   "cell_type": "code",
   "execution_count": 28,
   "metadata": {},
   "outputs": [
    {
     "name": "stdout",
     "output_type": "stream",
     "text": [
      "   PassengerId  Survived  Pclass                      Name   Sex   Age  SibSp   \n",
      "4            5         0       3  Allen, Mr. William Henry  male  35.0      0  \\\n",
      "5            6         0       3          Moran, Mr. James  male   NaN      0   \n",
      "\n",
      "   Parch  Ticket    Fare Cabin Embarked  \n",
      "4      0  373450  8.0500   NaN        S  \n",
      "5      0  330877  8.4583   NaN        Q  \n"
     ]
    },
    {
     "data": {
      "text/plain": [
       "0                                Braund, Mr. Owen Harris\n",
       "1      Cumings, Mrs. John Bradley (Florence Briggs Th...\n",
       "2                                 Heikkinen, Miss. Laina\n",
       "3           Futrelle, Mrs. Jacques Heath (Lily May Peel)\n",
       "4                               Allen, Mr. William Henry\n",
       "                             ...                        \n",
       "886                                Montvila, Rev. Juozas\n",
       "887                         Graham, Miss. Margaret Edith\n",
       "888             Johnston, Miss. Catherine Helen \"Carrie\"\n",
       "889                                Behr, Mr. Karl Howell\n",
       "890                                  Dooley, Mr. Patrick\n",
       "Name: Name, Length: 891, dtype: object"
      ]
     },
     "execution_count": 28,
     "metadata": {},
     "output_type": "execute_result"
    }
   ],
   "source": [
    "# Acceder a las filas 4 y 5\n",
    "print(data[4:6])\n",
    "\n",
    "# Acceder a una columna específica:\n",
    "data['Name']\n"
   ]
  },
  {
   "cell_type": "code",
   "execution_count": 29,
   "metadata": {},
   "outputs": [
    {
     "data": {
      "text/html": [
       "<div>\n",
       "<style scoped>\n",
       "    .dataframe tbody tr th:only-of-type {\n",
       "        vertical-align: middle;\n",
       "    }\n",
       "\n",
       "    .dataframe tbody tr th {\n",
       "        vertical-align: top;\n",
       "    }\n",
       "\n",
       "    .dataframe thead th {\n",
       "        text-align: right;\n",
       "    }\n",
       "</style>\n",
       "<table border=\"1\" class=\"dataframe\">\n",
       "  <thead>\n",
       "    <tr style=\"text-align: right;\">\n",
       "      <th></th>\n",
       "      <th>Name</th>\n",
       "      <th>Sex</th>\n",
       "    </tr>\n",
       "  </thead>\n",
       "  <tbody>\n",
       "    <tr>\n",
       "      <th>5</th>\n",
       "      <td>Moran, Mr. James</td>\n",
       "      <td>male</td>\n",
       "    </tr>\n",
       "    <tr>\n",
       "      <th>6</th>\n",
       "      <td>McCarthy, Mr. Timothy J</td>\n",
       "      <td>male</td>\n",
       "    </tr>\n",
       "    <tr>\n",
       "      <th>7</th>\n",
       "      <td>Palsson, Master. Gosta Leonard</td>\n",
       "      <td>male</td>\n",
       "    </tr>\n",
       "    <tr>\n",
       "      <th>8</th>\n",
       "      <td>Johnson, Mrs. Oscar W (Elisabeth Vilhelmina Berg)</td>\n",
       "      <td>female</td>\n",
       "    </tr>\n",
       "    <tr>\n",
       "      <th>9</th>\n",
       "      <td>Nasser, Mrs. Nicholas (Adele Achem)</td>\n",
       "      <td>female</td>\n",
       "    </tr>\n",
       "    <tr>\n",
       "      <th>10</th>\n",
       "      <td>Sandstrom, Miss. Marguerite Rut</td>\n",
       "      <td>female</td>\n",
       "    </tr>\n",
       "  </tbody>\n",
       "</table>\n",
       "</div>"
      ],
      "text/plain": [
       "                                                 Name     Sex\n",
       "5                                    Moran, Mr. James    male\n",
       "6                             McCarthy, Mr. Timothy J    male\n",
       "7                      Palsson, Master. Gosta Leonard    male\n",
       "8   Johnson, Mrs. Oscar W (Elisabeth Vilhelmina Berg)  female\n",
       "9                 Nasser, Mrs. Nicholas (Adele Achem)  female\n",
       "10                    Sandstrom, Miss. Marguerite Rut  female"
      ]
     },
     "execution_count": 29,
     "metadata": {},
     "output_type": "execute_result"
    }
   ],
   "source": [
    "# Acceder a filas y columnas específicas:\n",
    "data.loc[5:10, ['Name', 'Sex']]\n"
   ]
  },
  {
   "cell_type": "code",
   "execution_count": 8,
   "metadata": {
    "tags": []
   },
   "outputs": [
    {
     "data": {
      "text/plain": [
       "'Braund, Mr. Owen Harris'"
      ]
     },
     "execution_count": 8,
     "metadata": {},
     "output_type": "execute_result"
    }
   ],
   "source": [
    "data.iloc[0]['Name']"
   ]
  },
  {
   "cell_type": "code",
   "execution_count": 30,
   "metadata": {},
   "outputs": [
    {
     "data": {
      "text/html": [
       "<div>\n",
       "<style scoped>\n",
       "    .dataframe tbody tr th:only-of-type {\n",
       "        vertical-align: middle;\n",
       "    }\n",
       "\n",
       "    .dataframe tbody tr th {\n",
       "        vertical-align: top;\n",
       "    }\n",
       "\n",
       "    .dataframe thead th {\n",
       "        text-align: right;\n",
       "    }\n",
       "</style>\n",
       "<table border=\"1\" class=\"dataframe\">\n",
       "  <thead>\n",
       "    <tr style=\"text-align: right;\">\n",
       "      <th></th>\n",
       "      <th>PassengerId</th>\n",
       "      <th>Survived</th>\n",
       "      <th>Pclass</th>\n",
       "      <th>Name</th>\n",
       "      <th>Sex</th>\n",
       "      <th>Age</th>\n",
       "      <th>SibSp</th>\n",
       "      <th>Parch</th>\n",
       "      <th>Ticket</th>\n",
       "      <th>Fare</th>\n",
       "      <th>Cabin</th>\n",
       "      <th>Embarked</th>\n",
       "    </tr>\n",
       "  </thead>\n",
       "  <tbody>\n",
       "    <tr>\n",
       "      <th>1</th>\n",
       "      <td>2</td>\n",
       "      <td>1</td>\n",
       "      <td>1</td>\n",
       "      <td>Cumings, Mrs. John Bradley (Florence Briggs Th...</td>\n",
       "      <td>female</td>\n",
       "      <td>38.0</td>\n",
       "      <td>1</td>\n",
       "      <td>0</td>\n",
       "      <td>PC 17599</td>\n",
       "      <td>71.2833</td>\n",
       "      <td>C85</td>\n",
       "      <td>C</td>\n",
       "    </tr>\n",
       "    <tr>\n",
       "      <th>2</th>\n",
       "      <td>3</td>\n",
       "      <td>1</td>\n",
       "      <td>3</td>\n",
       "      <td>Heikkinen, Miss. Laina</td>\n",
       "      <td>female</td>\n",
       "      <td>26.0</td>\n",
       "      <td>0</td>\n",
       "      <td>0</td>\n",
       "      <td>STON/O2. 3101282</td>\n",
       "      <td>7.9250</td>\n",
       "      <td>NaN</td>\n",
       "      <td>S</td>\n",
       "    </tr>\n",
       "    <tr>\n",
       "      <th>3</th>\n",
       "      <td>4</td>\n",
       "      <td>1</td>\n",
       "      <td>1</td>\n",
       "      <td>Futrelle, Mrs. Jacques Heath (Lily May Peel)</td>\n",
       "      <td>female</td>\n",
       "      <td>35.0</td>\n",
       "      <td>1</td>\n",
       "      <td>0</td>\n",
       "      <td>113803</td>\n",
       "      <td>53.1000</td>\n",
       "      <td>C123</td>\n",
       "      <td>S</td>\n",
       "    </tr>\n",
       "    <tr>\n",
       "      <th>8</th>\n",
       "      <td>9</td>\n",
       "      <td>1</td>\n",
       "      <td>3</td>\n",
       "      <td>Johnson, Mrs. Oscar W (Elisabeth Vilhelmina Berg)</td>\n",
       "      <td>female</td>\n",
       "      <td>27.0</td>\n",
       "      <td>0</td>\n",
       "      <td>2</td>\n",
       "      <td>347742</td>\n",
       "      <td>11.1333</td>\n",
       "      <td>NaN</td>\n",
       "      <td>S</td>\n",
       "    </tr>\n",
       "    <tr>\n",
       "      <th>9</th>\n",
       "      <td>10</td>\n",
       "      <td>1</td>\n",
       "      <td>2</td>\n",
       "      <td>Nasser, Mrs. Nicholas (Adele Achem)</td>\n",
       "      <td>female</td>\n",
       "      <td>14.0</td>\n",
       "      <td>1</td>\n",
       "      <td>0</td>\n",
       "      <td>237736</td>\n",
       "      <td>30.0708</td>\n",
       "      <td>NaN</td>\n",
       "      <td>C</td>\n",
       "    </tr>\n",
       "  </tbody>\n",
       "</table>\n",
       "</div>"
      ],
      "text/plain": [
       "   PassengerId  Survived  Pclass   \n",
       "1            2         1       1  \\\n",
       "2            3         1       3   \n",
       "3            4         1       1   \n",
       "8            9         1       3   \n",
       "9           10         1       2   \n",
       "\n",
       "                                                Name     Sex   Age  SibSp   \n",
       "1  Cumings, Mrs. John Bradley (Florence Briggs Th...  female  38.0      1  \\\n",
       "2                             Heikkinen, Miss. Laina  female  26.0      0   \n",
       "3       Futrelle, Mrs. Jacques Heath (Lily May Peel)  female  35.0      1   \n",
       "8  Johnson, Mrs. Oscar W (Elisabeth Vilhelmina Berg)  female  27.0      0   \n",
       "9                Nasser, Mrs. Nicholas (Adele Achem)  female  14.0      1   \n",
       "\n",
       "   Parch            Ticket     Fare Cabin Embarked  \n",
       "1      0          PC 17599  71.2833   C85        C  \n",
       "2      0  STON/O2. 3101282   7.9250   NaN        S  \n",
       "3      0            113803  53.1000  C123        S  \n",
       "8      2            347742  11.1333   NaN        S  \n",
       "9      0            237736  30.0708   NaN        C  "
      ]
     },
     "execution_count": 30,
     "metadata": {},
     "output_type": "execute_result"
    }
   ],
   "source": [
    "# Seleccionar las filas que cumplan cierta condición:\n",
    "\n",
    "data[data['Sex'] == 'female'].head() #Mujeres\n"
   ]
  },
  {
   "cell_type": "code",
   "execution_count": 31,
   "metadata": {},
   "outputs": [
    {
     "data": {
      "text/html": [
       "<div>\n",
       "<style scoped>\n",
       "    .dataframe tbody tr th:only-of-type {\n",
       "        vertical-align: middle;\n",
       "    }\n",
       "\n",
       "    .dataframe tbody tr th {\n",
       "        vertical-align: top;\n",
       "    }\n",
       "\n",
       "    .dataframe thead th {\n",
       "        text-align: right;\n",
       "    }\n",
       "</style>\n",
       "<table border=\"1\" class=\"dataframe\">\n",
       "  <thead>\n",
       "    <tr style=\"text-align: right;\">\n",
       "      <th></th>\n",
       "      <th>PassengerId</th>\n",
       "      <th>Survived</th>\n",
       "      <th>Pclass</th>\n",
       "      <th>Name</th>\n",
       "      <th>Sex</th>\n",
       "      <th>Age</th>\n",
       "      <th>SibSp</th>\n",
       "      <th>Parch</th>\n",
       "      <th>Ticket</th>\n",
       "      <th>Fare</th>\n",
       "      <th>Cabin</th>\n",
       "      <th>Embarked</th>\n",
       "    </tr>\n",
       "  </thead>\n",
       "  <tbody>\n",
       "    <tr>\n",
       "      <th>0</th>\n",
       "      <td>1</td>\n",
       "      <td>0</td>\n",
       "      <td>3</td>\n",
       "      <td>Braund, Mr. Owen Harris</td>\n",
       "      <td>male</td>\n",
       "      <td>22.0</td>\n",
       "      <td>1</td>\n",
       "      <td>0</td>\n",
       "      <td>A/5 21171</td>\n",
       "      <td>7.2500</td>\n",
       "      <td>NaN</td>\n",
       "      <td>S</td>\n",
       "    </tr>\n",
       "    <tr>\n",
       "      <th>1</th>\n",
       "      <td>2</td>\n",
       "      <td>1</td>\n",
       "      <td>1</td>\n",
       "      <td>Cumings, Mrs. John Bradley (Florence Briggs Th...</td>\n",
       "      <td>female</td>\n",
       "      <td>38.0</td>\n",
       "      <td>1</td>\n",
       "      <td>0</td>\n",
       "      <td>PC 17599</td>\n",
       "      <td>71.2833</td>\n",
       "      <td>C85</td>\n",
       "      <td>C</td>\n",
       "    </tr>\n",
       "  </tbody>\n",
       "</table>\n",
       "</div>"
      ],
      "text/plain": [
       "   PassengerId  Survived  Pclass   \n",
       "0            1         0       3  \\\n",
       "1            2         1       1   \n",
       "\n",
       "                                                Name     Sex   Age  SibSp   \n",
       "0                            Braund, Mr. Owen Harris    male  22.0      1  \\\n",
       "1  Cumings, Mrs. John Bradley (Florence Briggs Th...  female  38.0      1   \n",
       "\n",
       "   Parch     Ticket     Fare Cabin Embarked  \n",
       "0      0  A/5 21171   7.2500   NaN        S  \n",
       "1      0   PC 17599  71.2833   C85        C  "
      ]
     },
     "execution_count": 31,
     "metadata": {},
     "output_type": "execute_result"
    }
   ],
   "source": [
    "# Presentar lista de pasajeros identificados con ids 1 y 2:\n",
    "\n",
    "data[data.PassengerId.isin([1, 2])]\n"
   ]
  },
  {
   "cell_type": "code",
   "execution_count": 32,
   "metadata": {},
   "outputs": [
    {
     "data": {
      "text/html": [
       "<div>\n",
       "<style scoped>\n",
       "    .dataframe tbody tr th:only-of-type {\n",
       "        vertical-align: middle;\n",
       "    }\n",
       "\n",
       "    .dataframe tbody tr th {\n",
       "        vertical-align: top;\n",
       "    }\n",
       "\n",
       "    .dataframe thead th {\n",
       "        text-align: right;\n",
       "    }\n",
       "</style>\n",
       "<table border=\"1\" class=\"dataframe\">\n",
       "  <thead>\n",
       "    <tr style=\"text-align: right;\">\n",
       "      <th></th>\n",
       "      <th>PassengerId</th>\n",
       "      <th>Survived</th>\n",
       "      <th>Pclass</th>\n",
       "      <th>Name</th>\n",
       "      <th>Sex</th>\n",
       "      <th>Age</th>\n",
       "      <th>SibSp</th>\n",
       "      <th>Parch</th>\n",
       "      <th>Ticket</th>\n",
       "      <th>Fare</th>\n",
       "      <th>Cabin</th>\n",
       "      <th>Embarked</th>\n",
       "    </tr>\n",
       "  </thead>\n",
       "  <tbody>\n",
       "    <tr>\n",
       "      <th>879</th>\n",
       "      <td>880</td>\n",
       "      <td>1</td>\n",
       "      <td>1</td>\n",
       "      <td>Potter, Mrs. Thomas Jr (Lily Alexenia Wilson)</td>\n",
       "      <td>female</td>\n",
       "      <td>56.0</td>\n",
       "      <td>0</td>\n",
       "      <td>1</td>\n",
       "      <td>11767</td>\n",
       "      <td>83.1583</td>\n",
       "      <td>C50</td>\n",
       "      <td>C</td>\n",
       "    </tr>\n",
       "    <tr>\n",
       "      <th>887</th>\n",
       "      <td>888</td>\n",
       "      <td>1</td>\n",
       "      <td>1</td>\n",
       "      <td>Graham, Miss. Margaret Edith</td>\n",
       "      <td>female</td>\n",
       "      <td>19.0</td>\n",
       "      <td>0</td>\n",
       "      <td>0</td>\n",
       "      <td>112053</td>\n",
       "      <td>30.0000</td>\n",
       "      <td>B42</td>\n",
       "      <td>S</td>\n",
       "    </tr>\n",
       "    <tr>\n",
       "      <th>889</th>\n",
       "      <td>890</td>\n",
       "      <td>1</td>\n",
       "      <td>1</td>\n",
       "      <td>Behr, Mr. Karl Howell</td>\n",
       "      <td>male</td>\n",
       "      <td>26.0</td>\n",
       "      <td>0</td>\n",
       "      <td>0</td>\n",
       "      <td>111369</td>\n",
       "      <td>30.0000</td>\n",
       "      <td>C148</td>\n",
       "      <td>C</td>\n",
       "    </tr>\n",
       "  </tbody>\n",
       "</table>\n",
       "</div>"
      ],
      "text/plain": [
       "     PassengerId  Survived  Pclass   \n",
       "879          880         1       1  \\\n",
       "887          888         1       1   \n",
       "889          890         1       1   \n",
       "\n",
       "                                              Name     Sex   Age  SibSp   \n",
       "879  Potter, Mrs. Thomas Jr (Lily Alexenia Wilson)  female  56.0      0  \\\n",
       "887                   Graham, Miss. Margaret Edith  female  19.0      0   \n",
       "889                          Behr, Mr. Karl Howell    male  26.0      0   \n",
       "\n",
       "     Parch  Ticket     Fare Cabin Embarked  \n",
       "879      1   11767  83.1583   C50        C  \n",
       "887      0  112053  30.0000   B42        S  \n",
       "889      0  111369  30.0000  C148        C  "
      ]
     },
     "execution_count": 32,
     "metadata": {},
     "output_type": "execute_result"
    }
   ],
   "source": [
    "# Filtrar dataframes según ciertas condiciones:\n",
    "\n",
    "#Opción 1:\n",
    "f1 = data[(data['Survived'] == 1) & (data['Pclass'] == 1)]  # Sobrevivientes de primera clase\n",
    "\n",
    "#Opción 2:\n",
    "f2 = data.query(\"Survived == 1 & Pclass == 1\")  # Sobrevivientes de primera clase\n",
    "f2.tail(3)"
   ]
  },
  {
   "cell_type": "code",
   "execution_count": 33,
   "metadata": {},
   "outputs": [
    {
     "data": {
      "text/html": [
       "<div>\n",
       "<style scoped>\n",
       "    .dataframe tbody tr th:only-of-type {\n",
       "        vertical-align: middle;\n",
       "    }\n",
       "\n",
       "    .dataframe tbody tr th {\n",
       "        vertical-align: top;\n",
       "    }\n",
       "\n",
       "    .dataframe thead th {\n",
       "        text-align: right;\n",
       "    }\n",
       "</style>\n",
       "<table border=\"1\" class=\"dataframe\">\n",
       "  <thead>\n",
       "    <tr style=\"text-align: right;\">\n",
       "      <th></th>\n",
       "      <th>Name</th>\n",
       "      <th>PassengerId</th>\n",
       "    </tr>\n",
       "  </thead>\n",
       "  <tbody>\n",
       "    <tr>\n",
       "      <th>179</th>\n",
       "      <td>Leonard, Mr. Lionel</td>\n",
       "      <td>180</td>\n",
       "    </tr>\n",
       "    <tr>\n",
       "      <th>263</th>\n",
       "      <td>Harrison, Mr. William</td>\n",
       "      <td>264</td>\n",
       "    </tr>\n",
       "    <tr>\n",
       "      <th>271</th>\n",
       "      <td>Tornquist, Mr. William Henry</td>\n",
       "      <td>272</td>\n",
       "    </tr>\n",
       "    <tr>\n",
       "      <th>277</th>\n",
       "      <td>Parkes, Mr. Francis \"Frank\"</td>\n",
       "      <td>278</td>\n",
       "    </tr>\n",
       "    <tr>\n",
       "      <th>302</th>\n",
       "      <td>Johnson, Mr. William Cahoone Jr</td>\n",
       "      <td>303</td>\n",
       "    </tr>\n",
       "    <tr>\n",
       "      <th>413</th>\n",
       "      <td>Cunningham, Mr. Alfred Fleming</td>\n",
       "      <td>414</td>\n",
       "    </tr>\n",
       "    <tr>\n",
       "      <th>466</th>\n",
       "      <td>Campbell, Mr. William</td>\n",
       "      <td>467</td>\n",
       "    </tr>\n",
       "    <tr>\n",
       "      <th>481</th>\n",
       "      <td>Frost, Mr. Anthony Wood \"Archie\"</td>\n",
       "      <td>482</td>\n",
       "    </tr>\n",
       "    <tr>\n",
       "      <th>597</th>\n",
       "      <td>Johnson, Mr. Alfred</td>\n",
       "      <td>598</td>\n",
       "    </tr>\n",
       "    <tr>\n",
       "      <th>633</th>\n",
       "      <td>Parr, Mr. William Henry Marsh</td>\n",
       "      <td>634</td>\n",
       "    </tr>\n",
       "    <tr>\n",
       "      <th>674</th>\n",
       "      <td>Watson, Mr. Ennis Hastings</td>\n",
       "      <td>675</td>\n",
       "    </tr>\n",
       "    <tr>\n",
       "      <th>732</th>\n",
       "      <td>Knight, Mr. Robert J</td>\n",
       "      <td>733</td>\n",
       "    </tr>\n",
       "    <tr>\n",
       "      <th>806</th>\n",
       "      <td>Andrews, Mr. Thomas Jr</td>\n",
       "      <td>807</td>\n",
       "    </tr>\n",
       "    <tr>\n",
       "      <th>815</th>\n",
       "      <td>Fry, Mr. Richard</td>\n",
       "      <td>816</td>\n",
       "    </tr>\n",
       "    <tr>\n",
       "      <th>822</th>\n",
       "      <td>Reuchlin, Jonkheer. John George</td>\n",
       "      <td>823</td>\n",
       "    </tr>\n",
       "  </tbody>\n",
       "</table>\n",
       "</div>"
      ],
      "text/plain": [
       "                                 Name  PassengerId\n",
       "179               Leonard, Mr. Lionel          180\n",
       "263             Harrison, Mr. William          264\n",
       "271      Tornquist, Mr. William Henry          272\n",
       "277       Parkes, Mr. Francis \"Frank\"          278\n",
       "302   Johnson, Mr. William Cahoone Jr          303\n",
       "413    Cunningham, Mr. Alfred Fleming          414\n",
       "466             Campbell, Mr. William          467\n",
       "481  Frost, Mr. Anthony Wood \"Archie\"          482\n",
       "597               Johnson, Mr. Alfred          598\n",
       "633     Parr, Mr. William Henry Marsh          634\n",
       "674        Watson, Mr. Ennis Hastings          675\n",
       "732              Knight, Mr. Robert J          733\n",
       "806            Andrews, Mr. Thomas Jr          807\n",
       "815                  Fry, Mr. Richard          816\n",
       "822   Reuchlin, Jonkheer. John George          823"
      ]
     },
     "execution_count": 33,
     "metadata": {},
     "output_type": "execute_result"
    }
   ],
   "source": [
    "# Pasajeros que pagaron menos de :\n",
    "\n",
    "data[data['Fare'] == min(data['Fare'])].loc[:, ['Name', 'PassengerId']]\n"
   ]
  },
  {
   "cell_type": "code",
   "execution_count": 34,
   "metadata": {},
   "outputs": [
    {
     "data": {
      "text/html": [
       "<div>\n",
       "<style scoped>\n",
       "    .dataframe tbody tr th:only-of-type {\n",
       "        vertical-align: middle;\n",
       "    }\n",
       "\n",
       "    .dataframe tbody tr th {\n",
       "        vertical-align: top;\n",
       "    }\n",
       "\n",
       "    .dataframe thead th {\n",
       "        text-align: right;\n",
       "    }\n",
       "</style>\n",
       "<table border=\"1\" class=\"dataframe\">\n",
       "  <thead>\n",
       "    <tr style=\"text-align: right;\">\n",
       "      <th></th>\n",
       "      <th>PassengerId</th>\n",
       "      <th>Survived</th>\n",
       "      <th>Pclass</th>\n",
       "      <th>Name</th>\n",
       "      <th>Sex</th>\n",
       "      <th>Age</th>\n",
       "      <th>SibSp</th>\n",
       "      <th>Parch</th>\n",
       "      <th>Ticket</th>\n",
       "      <th>Fare</th>\n",
       "      <th>Cabin</th>\n",
       "      <th>Embarked</th>\n",
       "    </tr>\n",
       "  </thead>\n",
       "  <tbody>\n",
       "    <tr>\n",
       "      <th>868</th>\n",
       "      <td>869</td>\n",
       "      <td>0</td>\n",
       "      <td>3</td>\n",
       "      <td>van Melkebeke, Mr. Philemon</td>\n",
       "      <td>male</td>\n",
       "      <td>NaN</td>\n",
       "      <td>0</td>\n",
       "      <td>0</td>\n",
       "      <td>345777</td>\n",
       "      <td>9.5000</td>\n",
       "      <td>NaN</td>\n",
       "      <td>S</td>\n",
       "    </tr>\n",
       "    <tr>\n",
       "      <th>153</th>\n",
       "      <td>154</td>\n",
       "      <td>0</td>\n",
       "      <td>3</td>\n",
       "      <td>van Billiard, Mr. Austin Blyler</td>\n",
       "      <td>male</td>\n",
       "      <td>40.5</td>\n",
       "      <td>0</td>\n",
       "      <td>2</td>\n",
       "      <td>A/5. 851</td>\n",
       "      <td>14.5000</td>\n",
       "      <td>NaN</td>\n",
       "      <td>S</td>\n",
       "    </tr>\n",
       "    <tr>\n",
       "      <th>361</th>\n",
       "      <td>362</td>\n",
       "      <td>0</td>\n",
       "      <td>2</td>\n",
       "      <td>del Carlo, Mr. Sebastiano</td>\n",
       "      <td>male</td>\n",
       "      <td>29.0</td>\n",
       "      <td>1</td>\n",
       "      <td>0</td>\n",
       "      <td>SC/PARIS 2167</td>\n",
       "      <td>27.7208</td>\n",
       "      <td>NaN</td>\n",
       "      <td>C</td>\n",
       "    </tr>\n",
       "    <tr>\n",
       "      <th>282</th>\n",
       "      <td>283</td>\n",
       "      <td>0</td>\n",
       "      <td>3</td>\n",
       "      <td>de Pelsmaeker, Mr. Alfons</td>\n",
       "      <td>male</td>\n",
       "      <td>16.0</td>\n",
       "      <td>0</td>\n",
       "      <td>0</td>\n",
       "      <td>345778</td>\n",
       "      <td>9.5000</td>\n",
       "      <td>NaN</td>\n",
       "      <td>S</td>\n",
       "    </tr>\n",
       "    <tr>\n",
       "      <th>286</th>\n",
       "      <td>287</td>\n",
       "      <td>1</td>\n",
       "      <td>3</td>\n",
       "      <td>de Mulder, Mr. Theodore</td>\n",
       "      <td>male</td>\n",
       "      <td>30.0</td>\n",
       "      <td>0</td>\n",
       "      <td>0</td>\n",
       "      <td>345774</td>\n",
       "      <td>9.5000</td>\n",
       "      <td>NaN</td>\n",
       "      <td>S</td>\n",
       "    </tr>\n",
       "    <tr>\n",
       "      <th>...</th>\n",
       "      <td>...</td>\n",
       "      <td>...</td>\n",
       "      <td>...</td>\n",
       "      <td>...</td>\n",
       "      <td>...</td>\n",
       "      <td>...</td>\n",
       "      <td>...</td>\n",
       "      <td>...</td>\n",
       "      <td>...</td>\n",
       "      <td>...</td>\n",
       "      <td>...</td>\n",
       "      <td>...</td>\n",
       "    </tr>\n",
       "    <tr>\n",
       "      <th>874</th>\n",
       "      <td>875</td>\n",
       "      <td>1</td>\n",
       "      <td>2</td>\n",
       "      <td>Abelson, Mrs. Samuel (Hannah Wizosky)</td>\n",
       "      <td>female</td>\n",
       "      <td>28.0</td>\n",
       "      <td>1</td>\n",
       "      <td>0</td>\n",
       "      <td>P/PP 3381</td>\n",
       "      <td>24.0000</td>\n",
       "      <td>NaN</td>\n",
       "      <td>C</td>\n",
       "    </tr>\n",
       "    <tr>\n",
       "      <th>308</th>\n",
       "      <td>309</td>\n",
       "      <td>0</td>\n",
       "      <td>2</td>\n",
       "      <td>Abelson, Mr. Samuel</td>\n",
       "      <td>male</td>\n",
       "      <td>30.0</td>\n",
       "      <td>1</td>\n",
       "      <td>0</td>\n",
       "      <td>P/PP 3381</td>\n",
       "      <td>24.0000</td>\n",
       "      <td>NaN</td>\n",
       "      <td>C</td>\n",
       "    </tr>\n",
       "    <tr>\n",
       "      <th>279</th>\n",
       "      <td>280</td>\n",
       "      <td>1</td>\n",
       "      <td>3</td>\n",
       "      <td>Abbott, Mrs. Stanton (Rosa Hunt)</td>\n",
       "      <td>female</td>\n",
       "      <td>35.0</td>\n",
       "      <td>1</td>\n",
       "      <td>1</td>\n",
       "      <td>C.A. 2673</td>\n",
       "      <td>20.2500</td>\n",
       "      <td>NaN</td>\n",
       "      <td>S</td>\n",
       "    </tr>\n",
       "    <tr>\n",
       "      <th>746</th>\n",
       "      <td>747</td>\n",
       "      <td>0</td>\n",
       "      <td>3</td>\n",
       "      <td>Abbott, Mr. Rossmore Edward</td>\n",
       "      <td>male</td>\n",
       "      <td>16.0</td>\n",
       "      <td>1</td>\n",
       "      <td>1</td>\n",
       "      <td>C.A. 2673</td>\n",
       "      <td>20.2500</td>\n",
       "      <td>NaN</td>\n",
       "      <td>S</td>\n",
       "    </tr>\n",
       "    <tr>\n",
       "      <th>845</th>\n",
       "      <td>846</td>\n",
       "      <td>0</td>\n",
       "      <td>3</td>\n",
       "      <td>Abbing, Mr. Anthony</td>\n",
       "      <td>male</td>\n",
       "      <td>42.0</td>\n",
       "      <td>0</td>\n",
       "      <td>0</td>\n",
       "      <td>C.A. 5547</td>\n",
       "      <td>7.5500</td>\n",
       "      <td>NaN</td>\n",
       "      <td>S</td>\n",
       "    </tr>\n",
       "  </tbody>\n",
       "</table>\n",
       "<p>891 rows × 12 columns</p>\n",
       "</div>"
      ],
      "text/plain": [
       "     PassengerId  Survived  Pclass                                   Name   \n",
       "868          869         0       3            van Melkebeke, Mr. Philemon  \\\n",
       "153          154         0       3        van Billiard, Mr. Austin Blyler   \n",
       "361          362         0       2              del Carlo, Mr. Sebastiano   \n",
       "282          283         0       3              de Pelsmaeker, Mr. Alfons   \n",
       "286          287         1       3                de Mulder, Mr. Theodore   \n",
       "..           ...       ...     ...                                    ...   \n",
       "874          875         1       2  Abelson, Mrs. Samuel (Hannah Wizosky)   \n",
       "308          309         0       2                    Abelson, Mr. Samuel   \n",
       "279          280         1       3       Abbott, Mrs. Stanton (Rosa Hunt)   \n",
       "746          747         0       3            Abbott, Mr. Rossmore Edward   \n",
       "845          846         0       3                    Abbing, Mr. Anthony   \n",
       "\n",
       "        Sex   Age  SibSp  Parch         Ticket     Fare Cabin Embarked  \n",
       "868    male   NaN      0      0         345777   9.5000   NaN        S  \n",
       "153    male  40.5      0      2       A/5. 851  14.5000   NaN        S  \n",
       "361    male  29.0      1      0  SC/PARIS 2167  27.7208   NaN        C  \n",
       "282    male  16.0      0      0         345778   9.5000   NaN        S  \n",
       "286    male  30.0      0      0         345774   9.5000   NaN        S  \n",
       "..      ...   ...    ...    ...            ...      ...   ...      ...  \n",
       "874  female  28.0      1      0      P/PP 3381  24.0000   NaN        C  \n",
       "308    male  30.0      1      0      P/PP 3381  24.0000   NaN        C  \n",
       "279  female  35.0      1      1      C.A. 2673  20.2500   NaN        S  \n",
       "746    male  16.0      1      1      C.A. 2673  20.2500   NaN        S  \n",
       "845    male  42.0      0      0      C.A. 5547   7.5500   NaN        S  \n",
       "\n",
       "[891 rows x 12 columns]"
      ]
     },
     "execution_count": 34,
     "metadata": {},
     "output_type": "execute_result"
    }
   ],
   "source": [
    "# Ordenar por varios atributos en orden descendente:\n",
    "\n",
    "data.sort_values(['Name', 'Age'], ascending = False) # inplace=True para que se ordene el mismo objeto y no se cree una copia"
   ]
  }
 ],
 "metadata": {
  "finalized": {
   "timestamp": 1619750528501,
   "trusted": true
  },
  "kernelspec": {
   "display_name": "Python 3 (ipykernel)",
   "language": "python",
   "name": "python3"
  },
  "language_info": {
   "codemirror_mode": {
    "name": "ipython",
    "version": 3
   },
   "file_extension": ".py",
   "mimetype": "text/x-python",
   "name": "python",
   "nbconvert_exporter": "python",
   "pygments_lexer": "ipython3",
   "version": "3.12.3"
  }
 },
 "nbformat": 4,
 "nbformat_minor": 4
}
