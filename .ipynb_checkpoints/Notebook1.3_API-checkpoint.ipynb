{
 "cells": [
  {
   "cell_type": "markdown",
   "metadata": {},
   "source": ""
  },
  {
   "cell_type": "markdown",
   "metadata": {},
   "source": [
    "## Paso 1: Carga de datos origen: listado de DOIs (parámetro de entrada para las APIs)\n",
    "\n",
    "Se cargará un archivo que contiene DOIs de publicaciones sobre aplicación de técnicas de Deep Learning en el dominio de COVID-19. \n"
   ]
  },
  {
   "cell_type": "code",
   "metadata": {
    "ExecuteTime": {
     "end_time": "2024-04-12T04:42:00.797635Z",
     "start_time": "2024-04-12T04:41:59.900431Z"
    }
   },
   "source": [
    "# Carga de DOIs desde un archivo CSV.\n",
    "\n",
    "import pandas as pd\n",
    "\n",
    "dois = pd.read_csv('data/dois.csv', sep='|')\n",
    "\n",
    "print(\"Cantidad de dois: \", dois.shape[0])"
   ],
   "outputs": [
    {
     "ename": "ModuleNotFoundError",
     "evalue": "No module named 'pandas'",
     "output_type": "error",
     "traceback": [
      "\u001B[1;31m---------------------------------------------------------------------------\u001B[0m",
      "\u001B[1;31mModuleNotFoundError\u001B[0m                       Traceback (most recent call last)",
      "Cell \u001B[1;32mIn[1], line 3\u001B[0m\n\u001B[0;32m      1\u001B[0m \u001B[38;5;66;03m# Carga de DOIs desde un archivo CSV.\u001B[39;00m\n\u001B[1;32m----> 3\u001B[0m \u001B[38;5;28;01mimport\u001B[39;00m \u001B[38;5;21;01mpandas\u001B[39;00m \u001B[38;5;28;01mas\u001B[39;00m \u001B[38;5;21;01mpd\u001B[39;00m\n\u001B[0;32m      5\u001B[0m dois \u001B[38;5;241m=\u001B[39m pd\u001B[38;5;241m.\u001B[39mread_csv(\u001B[38;5;124m'\u001B[39m\u001B[38;5;124mdata/dois.csv\u001B[39m\u001B[38;5;124m'\u001B[39m, sep\u001B[38;5;241m=\u001B[39m\u001B[38;5;124m'\u001B[39m\u001B[38;5;124m|\u001B[39m\u001B[38;5;124m'\u001B[39m)\n\u001B[0;32m      7\u001B[0m \u001B[38;5;28mprint\u001B[39m(\u001B[38;5;124m\"\u001B[39m\u001B[38;5;124mCantidad de dois: \u001B[39m\u001B[38;5;124m\"\u001B[39m, dois\u001B[38;5;241m.\u001B[39mshape[\u001B[38;5;241m0\u001B[39m])\n",
      "\u001B[1;31mModuleNotFoundError\u001B[0m: No module named 'pandas'"
     ]
    }
   ],
   "execution_count": 1
  },
  {
   "cell_type": "code",
   "execution_count": 4,
   "metadata": {
    "require": [
     "base/js/events",
     "datatables.net",
     "d3",
     "chartjs",
     "dt-config",
     "dt-components",
     "dt-graph-objects",
     "dt-toolbar",
     "dt-tooltips",
     "jupyter-datatables"
    ]
   },
   "outputs": [
    {
     "data": {
      "text/html": [
       "<div>\n",
       "<style scoped>\n",
       "    .dataframe tbody tr th:only-of-type {\n",
       "        vertical-align: middle;\n",
       "    }\n",
       "\n",
       "    .dataframe tbody tr th {\n",
       "        vertical-align: top;\n",
       "    }\n",
       "\n",
       "    .dataframe thead th {\n",
       "        text-align: right;\n",
       "    }\n",
       "</style>\n",
       "<table border=\"1\" class=\"dataframe\">\n",
       "  <thead>\n",
       "    <tr style=\"text-align: right;\">\n",
       "      <th></th>\n",
       "      <th>id</th>\n",
       "      <th>doi</th>\n",
       "    </tr>\n",
       "  </thead>\n",
       "  <tbody>\n",
       "    <tr>\n",
       "      <th>0</th>\n",
       "      <td>1</td>\n",
       "      <td>10.1155/2020/8828855</td>\n",
       "    </tr>\n",
       "    <tr>\n",
       "      <th>1</th>\n",
       "      <td>2</td>\n",
       "      <td>10.1016/j.imu.2020.100427</td>\n",
       "    </tr>\n",
       "    <tr>\n",
       "      <th>2</th>\n",
       "      <td>3</td>\n",
       "      <td>10.1007/s00259-020-05075-4</td>\n",
       "    </tr>\n",
       "    <tr>\n",
       "      <th>3</th>\n",
       "      <td>4</td>\n",
       "      <td>10.26355/eurrev_202011_23640</td>\n",
       "    </tr>\n",
       "    <tr>\n",
       "      <th>4</th>\n",
       "      <td>5</td>\n",
       "      <td>10.1016/j.ejro.2020.100272</td>\n",
       "    </tr>\n",
       "    <tr>\n",
       "      <th>5</th>\n",
       "      <td>6</td>\n",
       "      <td>10.1109/ACCESS.2020.3016780</td>\n",
       "    </tr>\n",
       "    <tr>\n",
       "      <th>6</th>\n",
       "      <td>7</td>\n",
       "      <td>10.3390/INFO11090419</td>\n",
       "    </tr>\n",
       "    <tr>\n",
       "      <th>7</th>\n",
       "      <td>8</td>\n",
       "      <td>10.1007/978-981-15-6572-4_7</td>\n",
       "    </tr>\n",
       "    <tr>\n",
       "      <th>8</th>\n",
       "      <td>9</td>\n",
       "      <td>10.1007/s10489-020-02076-6</td>\n",
       "    </tr>\n",
       "    <tr>\n",
       "      <th>9</th>\n",
       "      <td>10</td>\n",
       "      <td>10.1109/JBHI.2020.3042523</td>\n",
       "    </tr>\n",
       "  </tbody>\n",
       "</table>\n",
       "</div>"
      ],
      "text/plain": [
       "   id                           doi\n",
       "0   1          10.1155/2020/8828855\n",
       "1   2     10.1016/j.imu.2020.100427\n",
       "2   3    10.1007/s00259-020-05075-4\n",
       "3   4  10.26355/eurrev_202011_23640\n",
       "4   5    10.1016/j.ejro.2020.100272\n",
       "5   6   10.1109/ACCESS.2020.3016780\n",
       "6   7          10.3390/INFO11090419\n",
       "7   8   10.1007/978-981-15-6572-4_7\n",
       "8   9    10.1007/s10489-020-02076-6\n",
       "9  10     10.1109/JBHI.2020.3042523"
      ]
     },
     "execution_count": 4,
     "metadata": {},
     "output_type": "execute_result"
    }
   ],
   "source": [
    "dois.head(10)"
   ]
  },
  {
   "cell_type": "markdown",
   "metadata": {},
   "source": [
    "## Paso 2:  Extracción de datos mediante APIs\n",
    "\n",
    "\n",
    "### 2.1 Preparación de directorios de salida\n",
    "\n",
    "Crear directorio donde se guardarán los datos extraídos"
   ]
  },
  {
   "cell_type": "code",
   "execution_count": 5,
   "metadata": {},
   "outputs": [
    {
     "name": "stdout",
     "output_type": "stream",
     "text": [
      "Directorio actual /Users/jachicaiza/envs/nlp10/Notebooks/DOCENCIA/20231/FAD\n",
      "Creación de directorio data/results exitosa\n"
     ]
    }
   ],
   "source": [
    "\n",
    "import os\n",
    "\n",
    "# Determinar el directorio actual:\n",
    "path = os.getcwd()\n",
    "print (\"Directorio actual %s\" % path)\n",
    "\n",
    "# Crear nuevo directorio:\n",
    "\n",
    "newdir = \"data/results\" # nombre del nuevo directorio\n",
    "\n",
    "try:\n",
    "    os.mkdir(newdir)\n",
    "except OSError:\n",
    "    print (\"Creación de directorio %s fallida \" % newdir)\n",
    "else:\n",
    "    print (\"Creación de directorio %s exitosa\" % newdir)"
   ]
  },
  {
   "cell_type": "markdown",
   "metadata": {},
   "source": [
    "### 2.2 Extracción de datos desde Altmetrics\n",
    "\n",
    "Consultar Documentación de la API: http://api.altmetric.com\n",
    "\n",
    "\n",
    "Sintaxis de la request: https://api.altmetric.com/v1/doi/xxx\n",
    "\n",
    "la parte final de la dirección, sustituye al DOI de cada paper.\n"
   ]
  },
  {
   "cell_type": "code",
   "execution_count": 6,
   "metadata": {},
   "outputs": [
    {
     "data": {
      "text/plain": [
       "'10.1155/2020/8828855'"
      ]
     },
     "execution_count": 6,
     "metadata": {},
     "output_type": "execute_result"
    }
   ],
   "source": [
    "dois.loc[0]['doi']  # Primer doi del listado, verificar si está en ALTMETRIC\n"
   ]
  },
  {
   "cell_type": "markdown",
   "metadata": {},
   "source": [
    "\n",
    "La URL de la request sería: https://api.altmetric.com/v1/doi/10.1109/ACCESS.2022.3159025\n",
    "\n",
    "A partir de los resultados que se devuelvan (curl, browser), podemos diseñar la estrategia para consumir los datos, es decir, básicamente debemos entender la estructura de los datos devueltos, para acceder a los elementos de datos (keys) que nos interesa guardar.\n",
    "\n",
    "Para entender la estructura de la responde, podemos apoyarnos de algún JSON Formatter o un plugin"
   ]
  },
  {
   "cell_type": "markdown",
   "metadata": {},
   "source": [
    "### Preparar el request(importar libraries y definir parámetros generales)"
   ]
  },
  {
   "cell_type": "code",
   "execution_count": 7,
   "metadata": {},
   "outputs": [],
   "source": [
    "import requests, json, time, random\n",
    "\n",
    "PARAMS = {\n",
    "    \"format\": \"json\"\n",
    "}\n",
    "\n",
    "S = requests.Session()\n",
    "\n",
    "import datetime as dt\n",
    "\n",
    "endpoint = 'https://api.altmetric.com/v1/doi/'\n"
   ]
  },
  {
   "cell_type": "markdown",
   "metadata": {},
   "source": [
    "### Recorrer el archivo con los dois de los papers a obtener más información"
   ]
  },
  {
   "cell_type": "code",
   "execution_count": 24,
   "metadata": {
    "tags": []
   },
   "outputs": [
    {
     "name": "stdout",
     "output_type": "stream",
     "text": [
      "0 1 10.1155/2020/8828855\n",
      "1 2 10.1016/j.imu.2020.100427\n",
      "2 3 10.1007/s00259-020-05075-4\n",
      "3 4 10.26355/eurrev_202011_23640\n",
      "4 5 10.1016/j.ejro.2020.100272\n",
      "5 6 10.1109/ACCESS.2020.3016780\n",
      "6 7 10.3390/INFO11090419\n",
      "7 8 10.1007/978-981-15-6572-4_7\n",
      "8 9 10.1007/s10489-020-02076-6\n",
      "9 10 10.1109/JBHI.2020.3042523\n",
      "10 11 10.1007/s00330-020-07225-6\n",
      "11 14 10.7150/ijms.46684\n",
      "12 15 10.32604/cmes.2020.011920\n",
      "13 16 10.3844/JCSSP.2020.620.625\n",
      "14 17 10.1007/s40670-020-01133-6\n",
      "15 19 10.1109/JIOT.2020.3044031\n",
      "16 20 10.1109/MNET.011.2000458\n"
     ]
    }
   ],
   "source": [
    "# Entender cómo consumir datos del dataframe:\n",
    "for idx, row in dois.iterrows():\n",
    "    print(idx, row[0], row[1])"
   ]
  },
  {
   "cell_type": "code",
   "execution_count": 25,
   "metadata": {
    "tags": []
   },
   "outputs": [
    {
     "name": "stdout",
     "output_type": "stream",
     "text": [
      "10.1155/2020/8828855\n",
      "{'title': 'COVID-19 Deep Learning Prediction Model Using Publicly Available Radiologist-Adjudicated Chest X-Ray Images as Training Data: Preliminary Findings', 'doi': '10.1155/2020/8828855', 'pmid': '32849861', 'altmetric_jid': '4f6fa5283cf058f610003e02', 'issns': ['1687-4188', '1687-4196'], 'journal': 'International Journal of Biomedical Imaging', 'cohorts': {'pub': 5, 'sci': 1}, 'context': {'all': {'count': 23245494, 'mean': 10.294080287488075, 'rank': 7309438, 'pct': 68, 'higher_than': 15871426}, 'journal': {'count': 170, 'mean': 2.9842000000000004, 'rank': 36, 'pct': 78, 'higher_than': 134}, 'similar_age_3m': {'count': 400250, 'mean': 17.795559150529893, 'rank': 155474, 'pct': 60, 'higher_than': 242550}, 'similar_age_journal_3m': {'count': 1, 'mean': 3.35, 'rank': 1, 'pct': 1, 'higher_than': 0}}, 'authors': ['Mohd Zulfaezal Che Azemin', 'Radhiana Hassan', 'Mohd Izzuddin Mohd Tamrin', 'Mohd Adli Md Ali'], 'type': 'article', 'pubdate': 1597708800, 'altmetric_id': 91733974, 'schema': '1.5.4', 'is_oa': False, 'cited_by_posts_count': 6, 'cited_by_tweeters_count': 6, 'cited_by_accounts_count': 6, 'last_updated': 1604594328, 'score': 3.35, 'history': {'1y': 0, '6m': 0, '3m': 0, '1m': 0, '1w': 0, '6d': 0, '5d': 0, '4d': 0, '3d': 0, '2d': 0, '1d': 0, 'at': 3.35}, 'url': 'http://dx.doi.org/10.1155/2020/8828855', 'added_on': 1601805657, 'published_on': 1597708800, 'scopus_subjects': ['Health Sciences', 'Medicine'], 'readers': {'citeulike': '0', 'mendeley': '139', 'connotea': '0'}, 'readers_count': 139, 'images': {'small': 'https://badges.altmetric.com/?size=64&score=4&types=tttttttt', 'medium': 'https://badges.altmetric.com/?size=100&score=4&types=tttttttt', 'large': 'https://badges.altmetric.com/?size=180&score=4&types=tttttttt'}, 'details_url': 'https://www.altmetric.com/details.php?citation_id=91733974'}\n",
      "10.1016/j.imu.2020.100427\n",
      "{'title': 'COVID-19 detection in CT images with deep learning: A voting-based scheme and cross-datasets analysis', 'doi': '10.1016/j.imu.2020.100427', 'pmid': '32953971', 'isbns': [], 'altmetric_jid': '55b0f0312a83ee6a598b459a', 'issns': ['2352-9148'], 'journal': 'Informatics in Medicine Unlocked', 'cohorts': {'pub': 4, 'sci': 1}, 'context': {'all': {'count': 23267128, 'mean': 10.296616494241123, 'rank': 6872524, 'pct': 70, 'higher_than': 16371768}, 'journal': {'count': 329, 'mean': 4.840091185410334, 'rank': 70, 'pct': 78, 'higher_than': 259}, 'similar_age_3m': {'count': 457823, 'mean': 11.930675077484475, 'rank': 145797, 'pct': 67, 'higher_than': 311260}, 'similar_age_journal_3m': {'count': 59, 'mean': 8.792203389830508, 'rank': 21, 'pct': 64, 'higher_than': 38}}, 'authors': ['Pedro Silva', 'Eduardo Luz', 'Guilherme Silva', 'Gladston Moreira', 'Rodrigo Silva', 'Diego Lucio', 'David Menotti'], 'type': 'article', 'handles': [], 'pubdate': 1577836800, 'altmetric_id': 95382966, 'schema': '1.5.4', 'is_oa': False, 'cited_by_posts_count': 6, 'cited_by_tweeters_count': 5, 'cited_by_accounts_count': 5, 'last_updated': 1637409656, 'score': 3.95, 'history': {'1y': 0, '6m': 0, '3m': 0, '1m': 0, '1w': 0, '6d': 0, '5d': 0, '4d': 0, '3d': 0, '2d': 0, '1d': 0, 'at': 3.95}, 'url': 'http://dx.doi.org/10.1016/j.imu.2020.100427', 'added_on': 1607021892, 'published_on': 1577836800, 'readers': {'citeulike': '0', 'mendeley': '208', 'connotea': '0'}, 'readers_count': 208, 'images': {'small': 'https://badges.altmetric.com/?size=64&score=4&types=tttttttt', 'medium': 'https://badges.altmetric.com/?size=100&score=4&types=tttttttt', 'large': 'https://badges.altmetric.com/?size=180&score=4&types=tttttttt'}, 'details_url': 'https://www.altmetric.com/details.php?citation_id=95382966'}\n",
      "10.1007/s00259-020-05075-4\n",
      "{'title': 'Decoding COVID-19 pneumonia: comparison of deep learning and radiomics CT image signatures', 'doi': '10.1007/s00259-020-05075-4', 'pmid': '33094432', 'isbns': [], 'altmetric_jid': '4f6fa4eb3cf058f610002843', 'issns': ['1619-7070', '1619-7089'], 'journal': 'European Journal of Nuclear Medicine & Molecular Imaging', 'cohorts': {'pub': 1}, 'context': {'all': {'count': 23263851, 'mean': 10.296434411071887, 'rank': 18771452, 'pct': 11, 'higher_than': 2595134}, 'journal': {'count': 3024, 'mean': 6.196707671957642, 'rank': 2269, 'pct': 14, 'higher_than': 450}, 'similar_age_3m': {'count': 420693, 'mean': 16.428187647523494, 'rank': 315429, 'pct': 14, 'higher_than': 61196}, 'similar_age_journal_3m': {'count': 57, 'mean': 5.854912280701755, 'rank': 42, 'pct': 17, 'higher_than': 10}}, 'authors': ['Hongmei Wang', 'Lu Wang', 'Edward H. Lee', 'Jimmy Zheng', 'Wei Zhang', 'Safwan Halabi', 'Chunlei Liu', 'Kexue Deng', 'Jiangdian Song', 'Kristen W. Yeom'], 'type': 'article', 'handles': [], 'pubdate': 1619827200, 'epubdate': 1603411200, 'altmetric_id': 94820310, 'schema': '1.5.4', 'is_oa': False, 'publisher_subjects': [{'name': 'Clinical Sciences', 'scheme': 'era'}, {'name': 'Other Physical Sciences', 'scheme': 'era'}, {'name': 'Cardiology', 'scheme': 'springer'}, {'name': 'Imaging / Radiology', 'scheme': 'springer'}, {'name': 'Medicine & Public Health', 'scheme': 'springer'}, {'name': 'Nuclear Medicine', 'scheme': 'springer'}, {'name': 'Oncology', 'scheme': 'springer'}, {'name': 'Orthopedics', 'scheme': 'springer'}], 'cited_by_posts_count': 1, 'cited_by_tweeters_count': 1, 'cited_by_accounts_count': 1, 'last_updated': 1606173301, 'score': 0.5, 'history': {'1y': 0, '6m': 0, '3m': 0, '1m': 0, '1w': 0, '6d': 0, '5d': 0, '4d': 0, '3d': 0, '2d': 0, '1d': 0, 'at': 0.5}, 'url': 'http://dx.doi.org/10.1007/s00259-020-05075-4', 'added_on': 1606177313, 'published_on': 1603411200, 'scopus_subjects': ['Health Sciences', 'Medicine'], 'readers': {'citeulike': '0', 'mendeley': '109', 'connotea': '0'}, 'readers_count': 109, 'images': {'small': 'https://badges.altmetric.com/?size=64&score=1&types=tttttttt', 'medium': 'https://badges.altmetric.com/?size=100&score=1&types=tttttttt', 'large': 'https://badges.altmetric.com/?size=180&score=1&types=tttttttt'}, 'details_url': 'https://www.altmetric.com/details.php?citation_id=94820310'}\n",
      "10.26355/eurrev_202011_23640\n",
      "{'title': 'Deep learning applications to combat the dissemination of COVID-19 disease: a review.', 'doi': '10.26355/eurrev_202011_23640', 'pmid': '33215473', 'issns': ['2284-0729'], 'journal': 'European review for medical and pharmacological sciences', 'cohorts': {'pub': 1}, 'abstract': 'Recent Coronavirus (COVID-19) is one of the respiratory diseases, and it is known as fast infectious ability. This dissemination can be decelerated by diagnosing and quarantining patients with COVID-19 at early stages, thereby saving numerous lives. Reverse transcription-polymerase chain reaction (RT-PCR) is known as one of the primary diagnostic tools. However, RT-PCR tests are costly and time-consuming; it also requires specific materials, equipment, and instruments. Moreover, most countries are suffering from a lack of testing kits because of limitations on budget and techniques. Thus, this standard method is not suitable to meet the requirements of fast detection and tracking during the COVID-19 pandemic, which motived to employ deep learning (DL)/convolutional neural networks (CNNs) technology with X-ray and CT scans for efficient analysis and diagnostic. This study provides insight about the literature that discussed the deep learning technology and its various techniques that are recently developed to combat the dissemination of COVID-19 disease.', 'authors': ['Alsharif, M H', 'Alsharif, Y H', 'Yahya, K', 'Alomari, O A', 'Albreem, M A', 'Jahid, A'], 'type': 'article', 'epubdate': 1604188800, 'altmetric_id': 95331679, 'schema': '1.5.4', 'is_oa': False, 'cited_by_posts_count': 1, 'cited_by_tweeters_count': 1, 'cited_by_accounts_count': 1, 'last_updated': 1606933862, 'score': 0.25, 'history': {'1y': 0, '6m': 0, '3m': 0, '1m': 0, '1w': 0, '6d': 0, '5d': 0, '4d': 0, '3d': 0, '2d': 0, '1d': 0, 'at': 0.25}, 'url': 'http://dx.doi.org/10.26355/eurrev_202011_23640', 'added_on': 1606942898, 'published_on': 1604188800, 'subjects': ['pharmacology'], 'readers': {'citeulike': '0', 'mendeley': '77', 'connotea': '0'}, 'readers_count': 77, 'images': {'small': 'https://badges.altmetric.com/?size=64&score=1&types=tttttttt', 'medium': 'https://badges.altmetric.com/?size=100&score=1&types=tttttttt', 'large': 'https://badges.altmetric.com/?size=180&score=1&types=tttttttt'}, 'details_url': 'https://www.altmetric.com/details.php?citation_id=95331679'}\n",
      "10.1016/j.ejro.2020.100272\n",
      "{'title': 'Deep learning for automatic quantification of lung abnormalities in COVID-19 patients: First experience and correlation with clinical parameters', 'doi': '10.1016/j.ejro.2020.100272', 'pmid': '33043101', 'isbns': [], 'altmetric_jid': '537f30862a83eeb45a8b45b2', 'issns': ['2352-0477'], 'journal': 'European Journal of Radiology Open', 'cohorts': {'sci': 4, 'pub': 3, 'doc': 3}, 'context': {'all': {'count': 23248929, 'mean': 10.294305553364238, 'rank': 2477761, 'pct': 89, 'higher_than': 20774502}, 'journal': {'count': 264, 'mean': 2.8418257575757564, 'rank': 8, 'pct': 96, 'higher_than': 256}, 'similar_age_3m': {'count': 457547, 'mean': 11.929375740632624, 'rank': 61546, 'pct': 86, 'higher_than': 396053}, 'similar_age_journal_3m': {'count': 69, 'mean': 2.5149275362318844, 'rank': 1, 'pct': 98, 'higher_than': 68}}, 'authors': ['Victor Mergen', 'Adrian Kobe', 'Christian Blüthgen', 'André Euler', 'Thomas Flohr', 'Thomas Frauenfelder', 'Hatem Alkadhi', 'Matthias Eberhard'], 'type': 'article', 'handles': [], 'pubdate': 1577836800, 'altmetric_id': 92358724, 'schema': '1.5.4', 'is_oa': False, 'cited_by_feeds_count': 1, 'cited_by_posts_count': 11, 'cited_by_tweeters_count': 10, 'cited_by_accounts_count': 11, 'last_updated': 1606942554, 'score': 12.280000000000001, 'history': {'1y': 0, '6m': 0, '3m': 0, '1m': 0, '1w': 0, '6d': 0, '5d': 0, '4d': 0, '3d': 0, '2d': 0, '1d': 0, 'at': 12.280000000000001}, 'url': 'http://dx.doi.org/10.1016/j.ejro.2020.100272', 'added_on': 1602666448, 'published_on': 1577836800, 'readers': {'citeulike': '0', 'mendeley': '80', 'connotea': '0'}, 'readers_count': 80, 'images': {'small': 'https://badges.altmetric.com/?size=64&score=13&types=bttttttt', 'medium': 'https://badges.altmetric.com/?size=100&score=13&types=bttttttt', 'large': 'https://badges.altmetric.com/?size=180&score=13&types=bttttttt'}, 'details_url': 'https://www.altmetric.com/details.php?citation_id=92358724'}\n",
      "10.1109/ACCESS.2020.3016780\n",
      "{'title': 'COVID-19 Detection Through Transfer Learning Using Multimodal Imaging Data', 'doi': '10.1109/access.2020.3016780', 'pmid': '34931154', 'isbns': [], 'altmetric_jid': '5390f8d82a83ee92488b4567', 'issns': ['2169-3536'], 'journal': 'IEEE Access', 'cohorts': [], 'context': {'all': {'count': 23232430, 'mean': 10.292546626347692, 'rank': 3105451, 'pct': 86, 'higher_than': 20125264}, 'journal': {'count': 7267, 'mean': 4.730083390670159, 'rank': 437, 'pct': 93, 'higher_than': 6810}, 'similar_age_3m': {'count': 457367, 'mean': 11.925830770473617, 'rank': 73798, 'pct': 83, 'higher_than': 382066}, 'similar_age_journal_3m': {'count': 1811, 'mean': 4.488016565433459, 'rank': 107, 'pct': 93, 'higher_than': 1698}}, 'authors': ['Michael J. Horry', 'Subrata Chakraborty', 'Manoranjan Paul', 'Anwaar Ulhaq', 'Biswajeet Pradhan', 'Manas Saha', 'Nagesh Shukla'], 'type': 'article', 'handles': [], 'pubdate': 1577836800, 'altmetric_id': 88860356, 'schema': '1.5.4', 'is_oa': False, 'cited_by_msm_count': 1, 'cited_by_posts_count': 2, 'cited_by_patents_count': 1, 'cited_by_accounts_count': 2, 'last_updated': 1628553600, 'score': 10, 'history': {'1y': 0, '6m': 0, '3m': 0, '1m': 0, '1w': 0, '6d': 0, '5d': 0, '4d': 0, '3d': 0, '2d': 0, '1d': 0, 'at': 10}, 'url': 'http://dx.doi.org/10.1109/access.2020.3016780', 'added_on': 1598371355, 'published_on': 1577836800, 'readers': {'citeulike': '0', 'mendeley': '321', 'connotea': '0'}, 'readers_count': 321, 'images': {'small': 'https://badges.altmetric.com/?size=64&score=10&types=mmmmaaaa', 'medium': 'https://badges.altmetric.com/?size=100&score=10&types=mmmmaaaa', 'large': 'https://badges.altmetric.com/?size=180&score=10&types=mmmmaaaa'}, 'details_url': 'https://www.altmetric.com/details.php?citation_id=88860356'}\n",
      "10.3390/INFO11090419\n",
      "10.1007/978-981-15-6572-4_7\n",
      "10.1007/s10489-020-02076-6\n",
      "10.1109/JBHI.2020.3042523\n",
      "{'title': 'COVID-19 CT Image Synthesis With a Conditional Generative Adversarial Network', 'doi': '10.1109/jbhi.2020.3042523', 'pmid': '33275588', 'isbns': [], 'altmetric_jid': '56b89c912a83ee67498b457b', 'issns': ['2168-2194', '2168-2208'], 'journal': 'IEEE Journal of Biomedical and Health Informatics', 'cohorts': {'doc': 1}, 'context': {'all': {'count': 23511526, 'mean': 10.359117928047779, 'rank': 20888579, 'pct': 1, 'higher_than': 0}, 'journal': {'count': 1189, 'mean': 4.8867317073170735, 'rank': 953, 'pct': 1, 'higher_than': 0}, 'similar_age_3m': {'count': 506767, 'mean': 14.392929709312924, 'rank': 434400, 'pct': 1, 'higher_than': 0}, 'similar_age_journal_3m': {'count': 38, 'mean': 3.4197368421052627, 'rank': 28, 'pct': 1, 'higher_than': 0}}, 'authors': ['Yifan Jiang', 'Han Chen', 'Murray Loew', 'Hanseok Ko'], 'type': 'article', 'handles': [], 'pubdate': 1612137600, 'altmetric_id': 100558315, 'schema': '1.5.4', 'is_oa': False, 'cited_by_posts_count': 1, 'cited_by_tweeters_count': 1, 'cited_by_accounts_count': 1, 'last_updated': 1613895855, 'score': 0.25, 'history': {'1y': 0, '6m': 0, '3m': 0, '1m': 0, '1w': 0, '6d': 0, '5d': 0, '4d': 0, '3d': 0, '2d': 0, '1d': 0, 'at': 0.25}, 'url': 'http://dx.doi.org/10.1109/jbhi.2020.3042523', 'added_on': 1613895868, 'published_on': 1612137600, 'readers': {'citeulike': '0', 'mendeley': '188', 'connotea': '0'}, 'readers_count': 186, 'images': {'small': 'https://badges.altmetric.com/?size=64&score=1&types=tttttttt', 'medium': 'https://badges.altmetric.com/?size=100&score=1&types=tttttttt', 'large': 'https://badges.altmetric.com/?size=180&score=1&types=tttttttt'}, 'details_url': 'https://www.altmetric.com/details.php?citation_id=100558315'}\n",
      "10.1007/s00330-020-07225-6\n",
      "{'title': 'Ultra-low-dose chest CT imaging of COVID-19 patients using a deep residual neural network', 'doi': '10.1007/s00330-020-07225-6', 'pmid': '32879987', 'altmetric_jid': '4f6fa4eb3cf058f61000286d', 'issns': ['0938-7994', '1432-1084'], 'journal': 'European Radiology', 'cohorts': {'sci': 1, 'pub': 2, 'doc': 1}, 'context': {'all': {'count': 23323574, 'mean': 10.308413804614796, 'rank': 3729335, 'pct': 83, 'higher_than': 19582007}, 'journal': {'count': 4226, 'mean': 4.539971131093227, 'rank': 398, 'pct': 90, 'higher_than': 3827}, 'similar_age_3m': {'count': 400237, 'mean': 17.722266701977095, 'rank': 91547, 'pct': 77, 'higher_than': 308444}, 'similar_age_journal_3m': {'count': 157, 'mean': 3.640509554140127, 'rank': 17, 'pct': 89, 'higher_than': 141}}, 'authors': ['Isaac Shiri', 'Azadeh Akhavanallaf', 'Amirhossein Sanaat', 'Yazdan Salimi', 'Dariush Askari', 'Zahra Mansouri', 'Sajad P. Shayesteh', 'Mohammad Hasanian', 'Kiara Rezaei-Kalantari', 'Ali Salahshour', 'Saleh Sandoughdaran', 'Hamid Abdollahi', 'Hossein Arabi', 'Habib Zaidi'], 'type': 'article', 'pubdate': 1614556800, 'epubdate': 1599091200, 'altmetric_id': 89375281, 'schema': '1.5.4', 'is_oa': False, 'publisher_subjects': [{'name': 'Diagnostic Radiology', 'scheme': 'springer'}, {'name': 'Imaging / Radiology', 'scheme': 'springer'}, {'name': 'Internal Medicine', 'scheme': 'springer'}, {'name': 'Interventional Radiology', 'scheme': 'springer'}, {'name': 'Medicine & Public Health', 'scheme': 'springer'}, {'name': 'Neuroradiology', 'scheme': 'springer'}, {'name': 'Ultrasound', 'scheme': 'springer'}, {'name': 'Clinical Sciences', 'scheme': 'era'}], 'cited_by_posts_count': 6, 'cited_by_tweeters_count': 4, 'cited_by_msm_count': 1, 'cited_by_accounts_count': 5, 'last_updated': 1614525323, 'score': 8.5, 'history': {'1y': 0, '6m': 0, '3m': 0, '1m': 0, '1w': 0, '6d': 0, '5d': 0, '4d': 0, '3d': 0, '2d': 0, '1d': 0, 'at': 8.5}, 'url': 'http://dx.doi.org/10.1007/s00330-020-07225-6', 'added_on': 1599116964, 'published_on': 1599091200, 'scopus_subjects': ['Health Sciences', 'Medicine'], 'readers': {'citeulike': '0', 'mendeley': '99', 'connotea': '0'}, 'readers_count': 99, 'images': {'small': 'https://badges.altmetric.com/?size=64&score=9&types=mmtttttt', 'medium': 'https://badges.altmetric.com/?size=100&score=9&types=mmtttttt', 'large': 'https://badges.altmetric.com/?size=180&score=9&types=mmtttttt'}, 'details_url': 'https://www.altmetric.com/details.php?citation_id=89375281'}\n",
      "10.7150/ijms.46684\n",
      "{'title': 'Efficient GAN-based Chest Radiographs (CXR) augmentation to diagnose coronavirus disease pneumonia', 'doi': '10.7150/ijms.46684', 'pmid': '32624700', 'altmetric_jid': '4f6fa61e3cf058f610007947', 'issns': ['1449-1907'], 'journal': 'International Journal of Medical Sciences', 'cohorts': {'doc': 1}, 'context': {'all': {'count': 23511526, 'mean': 10.359117928047779, 'rank': 20888579, 'pct': 1, 'higher_than': 0}, 'journal': {'count': 1000, 'mean': 5.16888, 'rank': 705, 'pct': 1, 'higher_than': 0}, 'similar_age_3m': {'count': 459413, 'mean': 12.022056916106829, 'rank': 384715, 'pct': 1, 'higher_than': 0}, 'similar_age_journal_3m': {'count': 103, 'mean': 1.8888349514563108, 'rank': 58, 'pct': 1, 'higher_than': 0}}, 'authors': ['Saleh Albahli'], 'type': 'article', 'pubdate': 1577836800, 'altmetric_id': 85598195, 'schema': '1.5.4', 'is_oa': False, 'publisher_subjects': [{'name': 'Medical And Health Sciences', 'scheme': 'era'}], 'cited_by_posts_count': 1, 'cited_by_tweeters_count': 1, 'cited_by_accounts_count': 1, 'last_updated': 1594452255, 'score': 0.25, 'history': {'1y': 0, '6m': 0, '3m': 0, '1m': 0, '1w': 0, '6d': 0, '5d': 0, '4d': 0, '3d': 0, '2d': 0, '1d': 0, 'at': 0.25}, 'url': 'http://dx.doi.org/10.7150/ijms.46684', 'added_on': 1594452268, 'published_on': 1577836800, 'scopus_subjects': ['Health Sciences', 'Medicine'], 'readers': {'citeulike': '0', 'mendeley': '120', 'connotea': '0'}, 'readers_count': 120, 'images': {'small': 'https://badges.altmetric.com/?size=64&score=1&types=tttttttt', 'medium': 'https://badges.altmetric.com/?size=100&score=1&types=tttttttt', 'large': 'https://badges.altmetric.com/?size=180&score=1&types=tttttttt'}, 'details_url': 'https://www.altmetric.com/details.php?citation_id=85598195'}\n",
      "10.32604/cmes.2020.011920\n",
      "10.3844/JCSSP.2020.620.625\n",
      "{'title': 'GoogleNet CNN Neural Network towards Chest CT-Coronavirus Medical Image Classification', 'doi': '10.3844/jcssp.2020.620.625', 'isbns': [], 'altmetric_jid': '4f6fa4ce3cf058f61000060f', 'issns': ['1549-3636'], 'journal': 'Journal of Computer Science', 'cohorts': {'sci': 1}, 'context': {'all': {'count': 23248929, 'mean': 10.294305553364238, 'rank': 15638296, 'pct': 22, 'higher_than': 5179157}, 'journal': {'count': 120, 'mean': 2.8537000000000003, 'rank': 93, 'pct': 10, 'higher_than': 13}, 'similar_age_3m': {'count': 378855, 'mean': 19.08260911430272, 'rank': 236807, 'pct': 28, 'higher_than': 109163}, 'similar_age_journal_3m': {'count': 3, 'mean': 0.8333333333333334, 'rank': 1, 'pct': 33, 'higher_than': 1}}, 'authors': ['Nesreen Alsharman', 'Ibrahim Jawarneh'], 'type': 'article', 'handles': [], 'pubdate': 1588291200, 'altmetric_id': 82548217, 'schema': '1.5.4', 'is_oa': False, 'cited_by_posts_count': 1, 'cited_by_tweeters_count': 1, 'cited_by_accounts_count': 1, 'last_updated': 1590151921, 'score': 1, 'history': {'1y': 0, '6m': 0, '3m': 0, '1m': 0, '1w': 0, '6d': 0, '5d': 0, '4d': 0, '3d': 0, '2d': 0, '1d': 0, 'at': 1}, 'url': 'http://dx.doi.org/10.3844/jcssp.2020.620.625', 'added_on': 1590154648, 'published_on': 1588291200, 'scopus_subjects': ['Computer Science', 'Physical Sciences'], 'readers': {'citeulike': '0', 'mendeley': '49', 'connotea': '0'}, 'readers_count': 49, 'images': {'small': 'https://badges.altmetric.com/?size=64&score=1&types=tttttttt', 'medium': 'https://badges.altmetric.com/?size=100&score=1&types=tttttttt', 'large': 'https://badges.altmetric.com/?size=180&score=1&types=tttttttt'}, 'details_url': 'https://www.altmetric.com/details.php?citation_id=82548217'}\n",
      "10.1007/s40670-020-01133-6\n",
      "{'title': 'Development and Implementation of a Synchronous Online TBL Using Microsoft Forms', 'doi': '10.1007/s40670-020-01133-6', 'pmid': '33133755', 'isbns': [], 'altmetric_jid': '4f6fa62c3cf058f610008131', 'issns': ['2156-8650'], 'journal': 'Medical Science Educator', 'cohorts': {'doc': 1, 'pub': 1}, 'context': {'all': {'count': 23257423, 'mean': 10.296007671887184, 'rank': 18102444, 'pct': 19, 'higher_than': 4492641}, 'journal': {'count': 1007, 'mean': 3.986315789473684, 'rank': 720, 'pct': 21, 'higher_than': 221}, 'similar_age_3m': {'count': 420544, 'mean': 16.395679091842208, 'rank': 298279, 'pct': 25, 'higher_than': 105269}, 'similar_age_journal_3m': {'count': 68, 'mean': 2.3291176470588235, 'rank': 50, 'pct': 26, 'higher_than': 18}}, 'authors': ['Courtney E. Cross', 'Christina Robinson', 'Emily Todd'], 'type': 'article', 'handles': [], 'pubdate': 1612137600, 'epubdate': 1603497600, 'altmetric_id': 93653150, 'schema': '1.5.4', 'is_oa': False, 'publisher_subjects': [{'name': 'Education', 'scheme': 'springer'}, {'name': 'Medical Education', 'scheme': 'springer'}], 'cited_by_posts_count': 2, 'cited_by_tweeters_count': 2, 'cited_by_accounts_count': 2, 'last_updated': 1604402131, 'score': 0.75, 'history': {'1y': 0, '6m': 0, '3m': 0, '1m': 0, '1w': 0, '6d': 0, '5d': 0, '4d': 0, '3d': 0, '2d': 0, '1d': 0, 'at': 0.75}, 'url': 'http://dx.doi.org/10.1007/s40670-020-01133-6', 'added_on': 1604401916, 'published_on': 1603497600, 'readers': {'citeulike': '0', 'mendeley': '59', 'connotea': '0'}, 'readers_count': 59, 'images': {'small': 'https://badges.altmetric.com/?size=64&score=1&types=tttttttt', 'medium': 'https://badges.altmetric.com/?size=100&score=1&types=tttttttt', 'large': 'https://badges.altmetric.com/?size=180&score=1&types=tttttttt'}, 'details_url': 'https://www.altmetric.com/details.php?citation_id=93653150'}\n",
      "10.1109/JIOT.2020.3044031\n",
      "10.1109/MNET.011.2000458\n"
     ]
    }
   ],
   "source": [
    "for idx, row in dois.iterrows():\n",
    "    doi = row[1]\n",
    "    print(doi) # identificador del paper a recuperar\n",
    "    url =  endpoint + doi  # formamos la url completa\n",
    "\n",
    "    # Solicitar datos al proveedor: Altmetric:\n",
    "    request = S.get(url=url, params=PARAMS)\n",
    "    if request.ok: # En caso de que la petición sea exitosa, es decir, existe el documento en Almetric se procesan los datos.\n",
    "        response = request.json()\n",
    "        print(response) # Analizar estructura de resultados para obtener la información requerida"
   ]
  },
  {
   "cell_type": "markdown",
   "metadata": {},
   "source": [
    "### Optimizar/controlar las peticiones realizadas\n",
    "\n",
    "Es recomendable no procesar todos los datos, porque a lo mejor lleguemos al límite de peticiones por unidad de tiempo.\n",
    "\n",
    "Para evitar lo anterior podemos asumir dos estrategias:\n",
    "\n",
    "1. Sólo recorrer una parte de los datos de entrada. Podríamos establecer un elemento inicial (idx) y un elemento final hasta el que queramos recuperar los datos.\n",
    "2. Usar tiempos constantes o randómicos muertos para controlar la cantidad de peticiones por tiempo."
   ]
  },
  {
   "cell_type": "code",
   "execution_count": 31,
   "metadata": {},
   "outputs": [],
   "source": [
    "import datetime as dt\n",
    "\n",
    "\n",
    "def getAltMetrics(lim1, lim2):\n",
    "    idD = lim1 + 1\n",
    "    for i in range(dois.index[lim1], dois.index[lim2]):\n",
    "        doi = dois.loc[i]['doi']\n",
    "        url = 'https://api.altmetric.com/v1/doi/' + doi\n",
    "        print(idD, url)\n",
    "        request = S.get(url=url, params=PARAMS)\n",
    "        if request.ok:\n",
    "            response = request.json()\n",
    "            print(response)\n",
    "            idD = idD + 1\n",
    "            # TAREA A COMPLETAR, recorrer el JSON y guardar datos en objetos python hasta finalmente guardar en archivo csv.\n",
    "        \n",
    "        # El método sleep() suspende la ejecución del hilo actual durante un número determinado de segundos.\n",
    "        time.sleep( 1 + random.uniform(0, 1)) # esperar un segundo y una fracción más.\n"
   ]
  },
  {
   "cell_type": "code",
   "execution_count": 28,
   "metadata": {},
   "outputs": [
    {
     "name": "stdout",
     "output_type": "stream",
     "text": [
      "1 https://api.altmetric.com/v1/doi/10.1155/2020/8828855\n",
      "{'title': 'COVID-19 Deep Learning Prediction Model Using Publicly Available Radiologist-Adjudicated Chest X-Ray Images as Training Data: Preliminary Findings', 'doi': '10.1155/2020/8828855', 'pmid': '32849861', 'altmetric_jid': '4f6fa5283cf058f610003e02', 'issns': ['1687-4188', '1687-4196'], 'journal': 'International Journal of Biomedical Imaging', 'cohorts': {'pub': 5, 'sci': 1}, 'context': {'all': {'count': 23245494, 'mean': 10.294080287488075, 'rank': 7309438, 'pct': 68, 'higher_than': 15871426}, 'journal': {'count': 170, 'mean': 2.9842000000000004, 'rank': 36, 'pct': 78, 'higher_than': 134}, 'similar_age_3m': {'count': 400250, 'mean': 17.795559150529893, 'rank': 155474, 'pct': 60, 'higher_than': 242550}, 'similar_age_journal_3m': {'count': 1, 'mean': 3.35, 'rank': 1, 'pct': 1, 'higher_than': 0}}, 'authors': ['Mohd Zulfaezal Che Azemin', 'Radhiana Hassan', 'Mohd Izzuddin Mohd Tamrin', 'Mohd Adli Md Ali'], 'type': 'article', 'pubdate': 1597708800, 'altmetric_id': 91733974, 'schema': '1.5.4', 'is_oa': False, 'cited_by_posts_count': 6, 'cited_by_tweeters_count': 6, 'cited_by_accounts_count': 6, 'last_updated': 1604594328, 'score': 3.35, 'history': {'1y': 0, '6m': 0, '3m': 0, '1m': 0, '1w': 0, '6d': 0, '5d': 0, '4d': 0, '3d': 0, '2d': 0, '1d': 0, 'at': 3.35}, 'url': 'http://dx.doi.org/10.1155/2020/8828855', 'added_on': 1601805657, 'published_on': 1597708800, 'scopus_subjects': ['Health Sciences', 'Medicine'], 'readers': {'citeulike': '0', 'mendeley': '139', 'connotea': '0'}, 'readers_count': 139, 'images': {'small': 'https://badges.altmetric.com/?size=64&score=4&types=tttttttt', 'medium': 'https://badges.altmetric.com/?size=100&score=4&types=tttttttt', 'large': 'https://badges.altmetric.com/?size=180&score=4&types=tttttttt'}, 'details_url': 'https://www.altmetric.com/details.php?citation_id=91733974'}\n"
     ]
    }
   ],
   "source": [
    "# Recorrer el primer elemento de la lista de DOIs:\n",
    "\n",
    "getAltMetrics(0,1)"
   ]
  },
  {
   "cell_type": "code",
   "execution_count": 9,
   "metadata": {
    "tags": []
   },
   "outputs": [
    {
     "name": "stdout",
     "output_type": "stream",
     "text": [
      "{'test': '5', 'annotations': [{'spot': 'Ecuador', 'start': 0, 'link_probability': 0.875615119934082, 'rho': 0.6957006454467773, 'dbpedia_categories': ['Ecuador', 'Countries bordering the Pacific Ocean', 'Former Spanish colonies', 'Member states of OPEC', 'Member states of the Union of South American Nations', 'Andean Community of Nations', 'Republics', 'Countries in South America', 'Spanish-speaking countries', 'States and territories established in 1830', 'Member states of the United Nations'], 'end': 7, 'id': 9334, 'abstract': 'Ecuador (,), officially the Republic of Ecuador (, which literally translates as \"Republic of the Equator\"), is a representative democratic republic in northwestern South America, bordered by Colombia on the north, Peru on the east and south, and the Pacific Ocean to the west. Ecuador also includes the Galápagos Islands in the Pacific, about west of the mainland.', 'title': 'Ecuador'}, {'spot': 'Republic of Ecuador', 'start': 24, 'link_probability': 0.4318181872367859, 'rho': 0.47380220890045166, 'dbpedia_categories': ['Ecuador', 'Countries bordering the Pacific Ocean', 'Former Spanish colonies', 'Member states of OPEC', 'Member states of the Union of South American Nations', 'Andean Community of Nations', 'Republics', 'Countries in South America', 'Spanish-speaking countries', 'States and territories established in 1830', 'Member states of the United Nations'], 'end': 43, 'id': 9334, 'abstract': 'Ecuador (,), officially the Republic of Ecuador (, which literally translates as \"Republic of the Equator\"), is a representative democratic republic in northwestern South America, bordered by Colombia on the north, Peru on the east and south, and the Pacific Ocean to the west. Ecuador also includes the Galápagos Islands in the Pacific, about west of the mainland.', 'title': 'Ecuador'}, {'spot': 'Spanish', 'start': 45, 'link_probability': 0.23979434370994568, 'rho': 0.2804378271102905, 'dbpedia_categories': ['Spanish language', 'Iberian Romance languages', 'Languages of Spain', 'Languages of Andorra', 'Languages of Argentina', 'Languages of Belize', 'Languages of Bolivia', 'Languages of the Caribbean', 'Languages of Chile', 'Languages of Colombia', 'Languages of Costa Rica', 'Languages of the Dominican Republic', 'Languages of Ecuador', 'Languages of El Salvador', 'Languages of Equatorial Guinea', 'Languages of Guatemala', 'Languages of Honduras', 'Languages of Mexico', 'Languages of Nicaragua', 'Languages of Panama', 'Languages of Paraguay', 'Languages of Peru', 'Languages of the Philippines', 'Languages of the United States', 'Languages of Uruguay', 'Languages of Venezuela', 'Languages of South America', 'Subject–verb–object languages', 'Languages of Gibraltar'], 'end': 52, 'id': 26825, 'abstract': \"Spanish (, '), also called Castilian (,), is a Romance language that originated in the Castile region of Spain and today has 518 million speakers across the world, 427 million as a native language.\", 'title': 'Spanish language'}, {'spot': 'República del Ecuador', 'start': 54, 'link_probability': 0.2631579041481018, 'rho': 0.3894720673561096, 'dbpedia_categories': ['Ecuador', 'Countries bordering the Pacific Ocean', 'Former Spanish colonies', 'Member states of OPEC', 'Member states of the Union of South American Nations', 'Andean Community of Nations', 'Republics', 'Countries in South America', 'Spanish-speaking countries', 'States and territories established in 1830', 'Member states of the United Nations'], 'end': 75, 'id': 9334, 'abstract': 'Ecuador (,), officially the Republic of Ecuador (, which literally translates as \"Republic of the Equator\"), is a representative democratic republic in northwestern South America, bordered by Colombia on the north, Peru on the east and south, and the Pacific Ocean to the west. Ecuador also includes the Galápagos Islands in the Pacific, about west of the mainland.', 'title': 'Ecuador'}, {'spot': 'literally translates', 'start': 84, 'link_probability': 0.005567928776144981, 'rho': 0.040288861840963364, 'dbpedia_categories': ['Translation studies', 'Professional humor', 'Error'], 'end': 104, 'id': 2234284, 'abstract': 'Literal translation, direct translation, or word-for-word translation is the rendering of text from one language to another one word at a time (Latin: \"verbum pro verbo\") with or without conveying the sense of the original whole.', 'title': 'Literal translation'}, {'spot': 'Equator', 'start': 125, 'link_probability': 0.015559397637844086, 'rho': 0.09188677370548248, 'dbpedia_categories': ['Rebellions in Brazil', 'Secession in Brazil', 'Wars involving Brazil'], 'end': 132, 'id': 5749898, 'abstract': \"The Confederation of the Equator () was a short-lived rebellion that occurred in the northeastern region of Brazil after that nation's struggle for independence from Portugal. The secessionist movement was led by wealthy landowners who opposed early reforms by the nation's first leader, Emperor Pedro I. The fight occurred in Pernambuco, Ceará and Paraíba.\", 'title': 'Confederation of the Equator'}, {'spot': 'country', 'start': 141, 'link_probability': 0.018311286345124245, 'rho': 0.24457554519176483, 'dbpedia_categories': ['Venezuela', 'Caribbean countries', 'Federal countries', 'Former Spanish colonies', 'G15 nations', 'Member states of OPEC', 'Countries in South America', 'Spanish-speaking countries', 'States and territories established in 1811', 'Member states of the Union of South American Nations', 'Member states of the United Nations', 'Republics'], 'end': 148, 'id': 32374, 'abstract': \"Venezuela (;), officially the Bolivarian Republic of Venezuela (), is a federal republic located on the northern coast of South America. It is bordered by Colombia on the west, Brazil on the south, Guyana on the east, and the islands of Trinidad and Tobago to the north-east. Venezuela's territory covers around with an estimated population around 33,221,865. Venezuela is considered a state with extremely high biodiversity (currently ranks 7th in the world's list of nations with the most number of species), with habitats ranging from the Andes Mountains in the west to the Amazon Basin rain-forest in the south, via extensive llanos plains and Caribbean coast in the center and the Orinoco River Delta in the east.\", 'title': 'Venezuela'}, {'spot': 'South America', 'start': 165, 'link_probability': 0.4663979709148407, 'rho': 0.4489428400993347, 'dbpedia_categories': ['South America', 'Continents'], 'end': 178, 'id': 26769, 'abstract': 'South America is a continent situated in the Western Hemisphere, mostly in the Southern Hemisphere, with a relatively small portion in the Northern Hemisphere. It is also considered as a subcontinent of the Americas, which is the model used in Spanish-speaking nations and most of South America.', 'title': 'South America'}, {'spot': 'Colombia', 'start': 192, 'link_probability': 0.8281671404838562, 'rho': 0.6479808688163757, 'dbpedia_categories': ['Colombia', 'Andean Community of Nations', 'Caribbean countries', 'Constitutional republics', 'Countries bordering the Pacific Ocean', 'Countries in South America', 'Former Spanish colonies', 'Member states of the Union of South American Nations', 'Member states of the United Nations', 'Republics', 'Spanish-speaking countries', 'States and territories established in 1810'], 'end': 200, 'id': 5222, 'abstract': 'Colombia (or;), officially the Republic of Colombia (), is a country situated in the northwest of South America, bordered to the northwest by Panama; to the east by Venezuela and Brazil; to the south by Ecuador and Peru; and it shares maritime limits with Costa Rica, Nicaragua, Honduras, Jamaica, Dominican Republic and Haiti. It is a unitary, constitutional republic comprising thirty-two departments.', 'title': 'Colombia'}, {'spot': 'north, Peru', 'start': 208, 'link_probability': 0.44736841320991516, 'rho': 0.3259229362010956, 'dbpedia_categories': ['Former countries in South America', 'History of Bolivia', 'History of Peru', 'War of the Confederation', 'States and territories established in 1836'], 'end': 219, 'id': 5490350, 'abstract': 'The Republic of North Peru was one of the three constituent Republics of the short-lived Peru–Bolivian Confederation of 1836–39.', 'title': 'Republic of North Peru'}, {'spot': 'Peru', 'start': 215, 'link_probability': 0.8268163800239563, 'rho': 0.6611188650131226, 'dbpedia_categories': ['Peru', 'Andean Community of Nations', 'Countries bordering the Pacific Ocean', 'Former Spanish colonies', 'Liberal democracies', 'Member states of the Union of South American Nations', 'Member states of the United Nations', 'Republics', 'Countries in South America', 'Spanish-speaking countries', 'States and territories established in 1821'], 'end': 219, 'id': 170691, 'abstract': 'Peru (;;;), officially the Republic of Peru (), is a country in western South America. It is bordered in the north by Ecuador and Colombia, in the east by Brazil, in the southeast by Bolivia, in the south by Chile, and in the west by the Pacific Ocean. Peru is an extremely biodiverse country with habitats ranging from the arid plains of the Pacific coastal region in the west to the peaks of the Andes mountains vertically extending from the north to the southeast of the country to the tropical Amazon Basin rainforest in the east with the Amazon river.', 'title': 'Peru'}, {'spot': 'east', 'start': 227, 'link_probability': 0.0049374462105333805, 'rho': 0.14153257012367249, 'dbpedia_categories': ['East Asia', 'Regions of Asia', 'Articles containing Mongolian script text'], 'end': 231, 'id': 19605700, 'abstract': 'East Asia is the eastern subregion of the Asian continent, which can be defined in either geographical or ethno-cultural terms. Geographically and geopolitically, it covers about, or about 28% of the Asian continent, about 15% bigger than the area of Europe.', 'title': 'East Asia'}, {'spot': 'Pacific Ocean', 'start': 252, 'link_probability': 0.6450318098068237, 'rho': 0.462683767080307, 'dbpedia_categories': ['Pacific Ocean'], 'end': 265, 'id': 23070, 'abstract': \"The Pacific Ocean is the largest of the Earth's oceanic divisions. It extends from the Arctic Ocean in the north to the Southern Ocean (or, depending on definition, to Antarctica) in the south and is bounded by Asia and Australia in the west and the Americas in the east.\", 'title': 'Pacific Ocean'}, {'spot': 'west', 'start': 273, 'link_probability': 0.007107204291969538, 'rho': 0.17664273083209991, 'dbpedia_categories': ['Western Asia', 'Regions of Asia'], 'end': 277, 'id': 399656, 'abstract': 'Western Asia, West Asia, Southwestern Asia or Southwest Asia is the westernmost subregion of Asia. The concept is in limited use, as it significantly overlaps with the Middle East (or Near East), the main difference being the exclusion of Egypt (which would be counted as part of North Africa).', 'title': 'Western Asia'}], 'time': 317, 'api': 'tag', 'lang': 'en', 'timestamp': '2023-05-17T21:35:11'}\n"
     ]
    }
   ],
   "source": [
    "import requests\n",
    "token = 'cf3c6c6c-c6ea-4ab9-8a70-3a558775e837-843339462' # colocar aquí el token\n",
    "url_endpoint = 'http://tagme.d4science.org/tagme/tag?lang=en&include_abstract=true&include_categories=true&gcube-token='\n",
    "headers = {'user-agent': 'Mozilla/5.0', 'accept': 'application/json', 'content-type': 'application/json'}\n",
    "\n",
    "text = \"\"\"Ecuador, officially the Republic of Ecuador (Spanish: República del Ecuador, \n",
    "which literally translates as \"Republic of the Equator\"; \n",
    "is a country in northwestern South America, bordered by Colombia on the north, Peru on the east and south, \n",
    "and the Pacific Ocean on the west\"\"\"\n",
    "\n",
    "url = url_endpoint + token + '&text=' + text\n",
    "\n",
    "S = requests.Session()\n",
    "resp = S.get(url, headers=headers)\n",
    "\n",
    "if resp.status_code == 200:\n",
    "    result = resp.json()\n",
    "    print(result)\n"
   ]
  },
  {
   "cell_type": "code",
   "execution_count": null,
   "metadata": {},
   "outputs": [],
   "source": []
  }
 ],
 "metadata": {
  "finalized": {
   "timestamp": 1621297898005,
   "trusted": true
  },
  "kernelspec": {
   "display_name": "Python 3 (ipykernel)",
   "language": "python",
   "name": "python3"
  },
  "language_info": {
   "codemirror_mode": {
    "name": "ipython",
    "version": 3
   },
   "file_extension": ".py",
   "mimetype": "text/x-python",
   "name": "python",
   "nbconvert_exporter": "python",
   "pygments_lexer": "ipython3",
   "version": "3.10.8"
  },
  "require": {
   "paths": {
    "buttons.colvis": "https://cdn.datatables.net/buttons/1.5.6/js/buttons.colVis.min",
    "buttons.flash": "https://cdn.datatables.net/buttons/1.5.6/js/buttons.flash.min",
    "buttons.html5": "https://cdn.datatables.net/buttons/1.5.6/js/buttons.html5.min",
    "buttons.print": "https://cdn.datatables.net/buttons/1.5.6/js/buttons.print.min",
    "chartjs": "https://cdnjs.cloudflare.com/ajax/libs/Chart.js/2.8.0/Chart",
    "d3": "https://d3js.org/d3.v5.min",
    "d3-array": "https://d3js.org/d3-array.v2.min",
    "datatables.net": "https://cdn.datatables.net/1.10.18/js/jquery.dataTables",
    "datatables.net-buttons": "https://cdn.datatables.net/buttons/1.5.6/js/dataTables.buttons.min",
    "datatables.responsive": "https://cdn.datatables.net/responsive/2.2.2/js/dataTables.responsive.min",
    "datatables.scroller": "https://cdn.datatables.net/scroller/2.0.0/js/dataTables.scroller.min",
    "datatables.select": "https://cdn.datatables.net/select/1.3.0/js/dataTables.select.min",
    "jszip": "https://cdnjs.cloudflare.com/ajax/libs/jszip/2.5.0/jszip.min",
    "moment": "https://cdnjs.cloudflare.com/ajax/libs/moment.js/2.8.0/moment",
    "pdfmake": "https://cdnjs.cloudflare.com/ajax/libs/pdfmake/0.1.36/pdfmake.min",
    "vfsfonts": "https://cdnjs.cloudflare.com/ajax/libs/pdfmake/0.1.36/vfs_fonts"
   },
   "shim": {
    "buttons.colvis": {
     "deps": [
      "jszip",
      "datatables.net-buttons"
     ]
    },
    "buttons.flash": {
     "deps": [
      "jszip",
      "datatables.net-buttons"
     ]
    },
    "buttons.html5": {
     "deps": [
      "jszip",
      "datatables.net-buttons"
     ]
    },
    "buttons.print": {
     "deps": [
      "jszip",
      "datatables.net-buttons"
     ]
    },
    "chartjs": {
     "deps": [
      "moment"
     ]
    },
    "datatables.net": {
     "exports": "$.fn.dataTable"
    },
    "datatables.net-buttons": {
     "deps": [
      "datatables.net"
     ]
    },
    "pdfmake": {
     "deps": [
      "datatables.net"
     ]
    },
    "vfsfonts": {
     "deps": [
      "datatables.net"
     ]
    }
   }
  }
 },
 "nbformat": 4,
 "nbformat_minor": 4
}
