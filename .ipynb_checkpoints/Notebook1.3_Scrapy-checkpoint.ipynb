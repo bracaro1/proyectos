{
 "cells": [
  {
   "cell_type": "markdown",
   "metadata": {},
   "source": [
    "# Web Scraping with BeautifulSoup\n",
    "\n"
   ]
  },
  {
   "cell_type": "code",
   "metadata": {
    "ExecuteTime": {
     "end_time": "2024-04-12T05:40:12.002714Z",
     "start_time": "2024-04-12T05:40:11.991167Z"
    }
   },
   "source": [
    "# Instalación de librerías\n",
    "#!pip3 install \n"
   ],
   "outputs": [],
   "execution_count": 1
  },
  {
   "cell_type": "markdown",
   "metadata": {},
   "source": [
    "## Step 1: Download page \n",
    "\n",
    "Este paso es opcional pero recomendable"
   ]
  },
  {
   "cell_type": "code",
   "execution_count": 2,
   "metadata": {},
   "outputs": [],
   "source": [
    "# Librerías básicas\n",
    "\n",
    "import requests  # To connect to the page we want to scrape from\n",
    "from bs4 import BeautifulSoup # Provides a collection of functions that simplify scraping\n",
    "import pandas as pd # To manage our data\n",
    "\n",
    "import urllib\n",
    "import re\n",
    "import json\n",
    "import os\n",
    "import csv\n",
    "import re\n",
    "from datetime import date\n",
    "\n",
    "def download(url, user_agent='Mozilla/5.0', num_retries=2):\n",
    "    #Descarga una url. En caso de existir errores errores [500 600], intentar nuevamente.\n",
    "    #Función adaptada desde (Lawson Richard, 2015)\n",
    "    print('Descargando: ', url)\n",
    "    headers = {'User-agent': user_agent}\n",
    "    request = urllib.request.Request(url, headers=headers)\n",
    "    \n",
    "    try:\n",
    "        html = urllib.request.urlopen(request).read()\n",
    "    except urllib.error.URLError as e:\n",
    "        print('Error descargando:', e.reason)\n",
    "        html = None\n",
    "        if num_retries > 0:\n",
    "            if hasattr(e, 'code') and 500 <= e.code < 600:\n",
    "                return download(url, user_agent, num_retries-1)\n",
    "    return html\n"
   ]
  },
  {
   "cell_type": "markdown",
   "metadata": {},
   "source": [
    "## Step 2: Establecer la página a leer y analizarla (parser)"
   ]
  },
  {
   "cell_type": "code",
   "execution_count": 3,
   "metadata": {},
   "outputs": [
    {
     "name": "stdout",
     "output_type": "stream",
     "text": [
      "Descargando:  https://archive.ics.uci.edu/ml/datasets.php\n"
     ]
    }
   ],
   "source": [
    "\n",
    "#Dirección desde la que queremos extraer los datos:\n",
    "url = 'https://archive.ics.uci.edu/ml/datasets.php'\n",
    "\n",
    "# Page encoding\n",
    "html = download(url) \n"
   ]
  },
  {
   "cell_type": "code",
   "execution_count": 4,
   "metadata": {},
   "outputs": [
    {
     "data": {
      "text/plain": [
       "bs4.BeautifulSoup"
      ]
     },
     "execution_count": 4,
     "metadata": {},
     "output_type": "execute_result"
    }
   ],
   "source": [
    "# analizar la página HTML y cargarla en una estructura BeautifulSoup (BS4)\n",
    "\n",
    "soup = BeautifulSoup(html, \"html.parser\")\n",
    "\n",
    "# Print HTMl DOC\n",
    "type(soup)"
   ]
  },
  {
   "cell_type": "markdown",
   "metadata": {},
   "source": [
    "## Step 3: Inspeccionar elementos de la página (desde el navegador) para obtener etiquetas HTML que contienen los datos que nos interesa:"
   ]
  },
  {
   "cell_type": "code",
   "execution_count": 5,
   "metadata": {},
   "outputs": [
    {
     "name": "stdout",
     "output_type": "stream",
     "text": [
      "<title>UCI Machine Learning Repository: Data Sets</title>\n",
      "UCI Machine Learning Repository: Data Sets\n"
     ]
    }
   ],
   "source": [
    "# Atributos de de la página:\n",
    "print(soup.title) # Incluye etiquetas HTML\n",
    "\n",
    "print(soup.title.text)  # solo texto"
   ]
  },
  {
   "cell_type": "code",
   "execution_count": 6,
   "metadata": {},
   "outputs": [],
   "source": [
    "tables = soup.findAll(\"table\", {\"cellpadding\": \"5\", \"border\":\"1\"})\n",
    "table = tables[0] # solo nos interesa esta tabla de datos"
   ]
  },
  {
   "cell_type": "code",
   "execution_count": 7,
   "metadata": {
    "tags": []
   },
   "outputs": [],
   "source": [
    "# Ver el código html en objeto tipo soap.\n",
    "#print(table.prettify())"
   ]
  },
  {
   "cell_type": "code",
   "execution_count": 8,
   "metadata": {
    "tags": []
   },
   "outputs": [
    {
     "data": {
      "text/plain": [
       "1245"
      ]
     },
     "execution_count": 8,
     "metadata": {},
     "output_type": "execute_result"
    }
   ],
   "source": [
    "# Obtener todas las filas de datos\n",
    "lines = table.findAll('tr')\n",
    "len(lines)"
   ]
  },
  {
   "cell_type": "code",
   "execution_count": 9,
   "metadata": {
    "tags": []
   },
   "outputs": [
    {
     "name": "stdout",
     "output_type": "stream",
     "text": [
      "<tr bgcolor=\"#003366\">\n",
      " <td class=\"normal, whitetext\">\n",
      "  <p class=\"normal, whitetext\">\n",
      "   <a href=\"datasets.php?format=&amp;task=&amp;att=&amp;area=&amp;numAtt=&amp;numIns=&amp;type=&amp;sort=nameDown&amp;view=table\">\n",
      "    <b>\n",
      "     Name\n",
      "    </b>\n",
      "   </a>\n",
      "  </p>\n",
      " </td>\n",
      " <!-- <td><p class=\"normal, whitetext\"><b>Abstract</b></p></td> -->\n",
      " <td>\n",
      "  <p class=\"normal, whitetext\">\n",
      "   <a href=\"datasets.php?format=&amp;task=&amp;att=&amp;area=&amp;numAtt=&amp;numIns=&amp;type=&amp;sort=typeUp&amp;view=table\">\n",
      "    <b>\n",
      "     Data Types\n",
      "    </b>\n",
      "   </a>\n",
      "  </p>\n",
      " </td>\n",
      " <td>\n",
      "  <p class=\"normal, whitetext\">\n",
      "   <a href=\"datasets.php?format=&amp;task=&amp;att=&amp;area=&amp;numAtt=&amp;numIns=&amp;type=&amp;sort=taskUp&amp;view=table\">\n",
      "    <b>\n",
      "     Default Task\n",
      "    </b>\n",
      "   </a>\n",
      "  </p>\n",
      " </td>\n",
      " <td>\n",
      "  <p class=\"normal, whitetext\">\n",
      "   <a href=\"datasets.php?format=&amp;task=&amp;att=&amp;area=&amp;numAtt=&amp;numIns=&amp;type=&amp;sort=attTypeUp&amp;view=table\">\n",
      "    <b>\n",
      "     Attribute Types\n",
      "    </b>\n",
      "   </a>\n",
      "  </p>\n",
      " </td>\n",
      " <td>\n",
      "  <p class=\"normal, whitetext\">\n",
      "   <a href=\"datasets.php?format=&amp;task=&amp;att=&amp;area=&amp;numAtt=&amp;numIns=&amp;type=&amp;sort=instUp&amp;view=table\">\n",
      "    <b>\n",
      "     # Instances\n",
      "    </b>\n",
      "   </a>\n",
      "  </p>\n",
      " </td>\n",
      " <td>\n",
      "  <p class=\"normal, whitetext\">\n",
      "   <a href=\"datasets.php?format=&amp;task=&amp;att=&amp;area=&amp;numAtt=&amp;numIns=&amp;type=&amp;sort=attUp&amp;view=table\">\n",
      "    <b>\n",
      "     # Attributes\n",
      "    </b>\n",
      "   </a>\n",
      "  </p>\n",
      " </td>\n",
      " <td>\n",
      "  <p class=\"normal, whitetext\">\n",
      "   <a href=\"datasets.php?format=&amp;task=&amp;att=&amp;area=&amp;numAtt=&amp;numIns=&amp;type=&amp;sort=dateUp&amp;view=table\">\n",
      "    <b>\n",
      "     Year\n",
      "    </b>\n",
      "   </a>\n",
      "  </p>\n",
      " </td>\n",
      " <!-- <td><p class=\"normal, whitetext\"><b>Area</b></p></td> -->\n",
      "</tr>\n",
      "\n"
     ]
    }
   ],
   "source": [
    "#Explorar la primera fila \n",
    "print(lines[0].prettify()) # Encabezado de la tabla"
   ]
  },
  {
   "cell_type": "code",
   "execution_count": 10,
   "metadata": {
    "tags": []
   },
   "outputs": [
    {
     "name": "stdout",
     "output_type": "stream",
     "text": [
      "<tr>\n",
      " <td>\n",
      "  <table>\n",
      "   <tr>\n",
      "    <td>\n",
      "     <a href=\"datasets/Abalone\">\n",
      "      <img border=\"1\" src=\"assets/MLimages/SmallLarge1.jpg\"/>\n",
      "     </a>\n",
      "    </td>\n",
      "    <td>\n",
      "     <p class=\"normal\">\n",
      "      <b>\n",
      "       <a href=\"datasets/Abalone\">\n",
      "        Abalone\n",
      "       </a>\n",
      "      </b>\n",
      "     </p>\n",
      "    </td>\n",
      "   </tr>\n",
      "  </table>\n",
      " </td>\n",
      " <!-- <td><p class=\"normal\">Predict the age of abalone from physical measurements&nbsp;</p></td> -->\n",
      " <td>\n",
      "  <p class=\"normal\">\n",
      "   Multivariate\n",
      "  </p>\n",
      " </td>\n",
      " <td>\n",
      "  <p class=\"normal\">\n",
      "   Classification\n",
      "  </p>\n",
      " </td>\n",
      " <td>\n",
      "  <p class=\"normal\">\n",
      "   Categorical, Integer, Real\n",
      "  </p>\n",
      " </td>\n",
      " <td>\n",
      "  <p class=\"normal\">\n",
      "   4177\n",
      "  </p>\n",
      " </td>\n",
      " <td>\n",
      "  <p class=\"normal\">\n",
      "   8\n",
      "  </p>\n",
      " </td>\n",
      " <td>\n",
      "  <p class=\"normal\">\n",
      "   1995\n",
      "  </p>\n",
      " </td>\n",
      " <!-- <td><p class=\"normal\">Life&nbsp;</p></td> -->\n",
      "</tr>\n",
      "\n"
     ]
    }
   ],
   "source": [
    "#Explorar la segunda fila \n",
    "print(lines[1].prettify()) # Primer dataset"
   ]
  },
  {
   "cell_type": "code",
   "execution_count": 11,
   "metadata": {},
   "outputs": [
    {
     "name": "stdout",
     "output_type": "stream",
     "text": [
      "Abalone\n",
      "Adult\n",
      "Annealing\n",
      "Anonymous Microsoft Web Data\n",
      "Arrhythmia\n"
     ]
    }
   ],
   "source": [
    "# Recorrer filas y obtener nombres de datasets:\n",
    "\n",
    "cont = 1\n",
    "for r in lines[1:10]:\n",
    "    if cont % 2 != 0:\n",
    "        dataset = r.find(\"p\", {\"class\": \"normal\"})\n",
    "        print(dataset.text)\n",
    "    cont = cont + 1\n",
    "\n"
   ]
  },
  {
   "cell_type": "code",
   "execution_count": 12,
   "metadata": {
    "tags": []
   },
   "outputs": [],
   "source": [
    "# Obtener todos los metadatos de los datasets y almacenarlos en un diccionario:\n",
    "\n",
    "datasets = []\n",
    "cont = 1\n",
    "for r in lines[1:12]:\n",
    "    cells = r.findAll('td')\n",
    "    cells = cells[1:8]\n",
    "    if cont % 2 != 0:\n",
    "        datasets.append({\"name\":cells[1].find(\"p\", {\"class\": \"normal\"}).text,\n",
    "                   \"datatype\":cells[2].find(\"p\", {\"class\": \"normal\"}).text,\n",
    "                    \"task\":cells[3].find(\"p\", {\"class\": \"normal\"}).text,\n",
    "                    \"attributestype\":cells[4].find(\"p\", {\"class\": \"normal\"}).text,\n",
    "                    \"instances\":cells[5].find(\"p\", {\"class\": \"normal\"}).text,\n",
    "                    \"attributes\":cells[6].find(\"p\", {\"class\": \"normal\"}).text})\n",
    "    cont = cont + 1\n",
    "    #print(cells[1])"
   ]
  },
  {
   "cell_type": "code",
   "execution_count": 13,
   "metadata": {
    "tags": []
   },
   "outputs": [
    {
     "data": {
      "text/plain": [
       "[{'name': 'Abalone',\n",
       "  'datatype': 'Multivariate\\xa0',\n",
       "  'task': 'Classification\\xa0',\n",
       "  'attributestype': 'Categorical, Integer, Real\\xa0',\n",
       "  'instances': '4177\\xa0',\n",
       "  'attributes': '8\\xa0'},\n",
       " {'name': 'Adult',\n",
       "  'datatype': 'Multivariate\\xa0',\n",
       "  'task': 'Classification\\xa0',\n",
       "  'attributestype': 'Categorical, Integer\\xa0',\n",
       "  'instances': '48842\\xa0',\n",
       "  'attributes': '14\\xa0'},\n",
       " {'name': 'Annealing',\n",
       "  'datatype': 'Multivariate\\xa0',\n",
       "  'task': 'Classification\\xa0',\n",
       "  'attributestype': 'Categorical, Integer, Real\\xa0',\n",
       "  'instances': '798\\xa0',\n",
       "  'attributes': '38\\xa0'},\n",
       " {'name': 'Anonymous Microsoft Web Data',\n",
       "  'datatype': '\\xa0',\n",
       "  'task': 'Recommender-Systems\\xa0',\n",
       "  'attributestype': 'Categorical\\xa0',\n",
       "  'instances': '37711\\xa0',\n",
       "  'attributes': '294\\xa0'},\n",
       " {'name': 'Arrhythmia',\n",
       "  'datatype': 'Multivariate\\xa0',\n",
       "  'task': 'Classification\\xa0',\n",
       "  'attributestype': 'Categorical, Integer, Real\\xa0',\n",
       "  'instances': '452\\xa0',\n",
       "  'attributes': '279\\xa0'},\n",
       " {'name': 'Artificial Characters',\n",
       "  'datatype': 'Multivariate\\xa0',\n",
       "  'task': 'Classification\\xa0',\n",
       "  'attributestype': 'Categorical, Integer, Real\\xa0',\n",
       "  'instances': '6000\\xa0',\n",
       "  'attributes': '7\\xa0'}]"
      ]
     },
     "execution_count": 13,
     "metadata": {},
     "output_type": "execute_result"
    }
   ],
   "source": [
    "datasets"
   ]
  },
  {
   "cell_type": "code",
   "execution_count": 14,
   "metadata": {
    "tags": []
   },
   "outputs": [
    {
     "data": {
      "text/html": [
       "<div>\n",
       "<style scoped>\n",
       "    .dataframe tbody tr th:only-of-type {\n",
       "        vertical-align: middle;\n",
       "    }\n",
       "\n",
       "    .dataframe tbody tr th {\n",
       "        vertical-align: top;\n",
       "    }\n",
       "\n",
       "    .dataframe thead th {\n",
       "        text-align: right;\n",
       "    }\n",
       "</style>\n",
       "<table border=\"1\" class=\"dataframe\">\n",
       "  <thead>\n",
       "    <tr style=\"text-align: right;\">\n",
       "      <th></th>\n",
       "      <th>name</th>\n",
       "      <th>datatype</th>\n",
       "      <th>task</th>\n",
       "      <th>attributestype</th>\n",
       "      <th>instances</th>\n",
       "      <th>attributes</th>\n",
       "    </tr>\n",
       "  </thead>\n",
       "  <tbody>\n",
       "    <tr>\n",
       "      <th>0</th>\n",
       "      <td>Abalone</td>\n",
       "      <td>Multivariate</td>\n",
       "      <td>Classification</td>\n",
       "      <td>Categorical, Integer, Real</td>\n",
       "      <td>4177</td>\n",
       "      <td>8</td>\n",
       "    </tr>\n",
       "    <tr>\n",
       "      <th>1</th>\n",
       "      <td>Adult</td>\n",
       "      <td>Multivariate</td>\n",
       "      <td>Classification</td>\n",
       "      <td>Categorical, Integer</td>\n",
       "      <td>48842</td>\n",
       "      <td>14</td>\n",
       "    </tr>\n",
       "    <tr>\n",
       "      <th>2</th>\n",
       "      <td>Annealing</td>\n",
       "      <td>Multivariate</td>\n",
       "      <td>Classification</td>\n",
       "      <td>Categorical, Integer, Real</td>\n",
       "      <td>798</td>\n",
       "      <td>38</td>\n",
       "    </tr>\n",
       "    <tr>\n",
       "      <th>3</th>\n",
       "      <td>Anonymous Microsoft Web Data</td>\n",
       "      <td></td>\n",
       "      <td>Recommender-Systems</td>\n",
       "      <td>Categorical</td>\n",
       "      <td>37711</td>\n",
       "      <td>294</td>\n",
       "    </tr>\n",
       "    <tr>\n",
       "      <th>4</th>\n",
       "      <td>Arrhythmia</td>\n",
       "      <td>Multivariate</td>\n",
       "      <td>Classification</td>\n",
       "      <td>Categorical, Integer, Real</td>\n",
       "      <td>452</td>\n",
       "      <td>279</td>\n",
       "    </tr>\n",
       "    <tr>\n",
       "      <th>5</th>\n",
       "      <td>Artificial Characters</td>\n",
       "      <td>Multivariate</td>\n",
       "      <td>Classification</td>\n",
       "      <td>Categorical, Integer, Real</td>\n",
       "      <td>6000</td>\n",
       "      <td>7</td>\n",
       "    </tr>\n",
       "  </tbody>\n",
       "</table>\n",
       "</div>"
      ],
      "text/plain": [
       "                           name       datatype                  task   \n",
       "0                       Abalone  Multivariate        Classification   \\\n",
       "1                         Adult  Multivariate        Classification    \n",
       "2                     Annealing  Multivariate        Classification    \n",
       "3  Anonymous Microsoft Web Data                 Recommender-Systems    \n",
       "4                    Arrhythmia  Multivariate        Classification    \n",
       "5         Artificial Characters  Multivariate        Classification    \n",
       "\n",
       "                attributestype instances attributes  \n",
       "0  Categorical, Integer, Real      4177          8   \n",
       "1        Categorical, Integer     48842         14   \n",
       "2  Categorical, Integer, Real       798         38   \n",
       "3                 Categorical     37711        294   \n",
       "4  Categorical, Integer, Real       452        279   \n",
       "5  Categorical, Integer, Real      6000          7   "
      ]
     },
     "execution_count": 14,
     "metadata": {},
     "output_type": "execute_result"
    }
   ],
   "source": [
    "datasets = pd.DataFrame(datasets)\n",
    "\n",
    "datasets"
   ]
  },
  {
   "cell_type": "code",
   "execution_count": null,
   "metadata": {},
   "outputs": [],
   "source": []
  }
 ],
 "metadata": {
  "finalized": {
   "timestamp": 1621659662872,
   "trusted": false
  },
  "kernelspec": {
   "display_name": "Python 3 (ipykernel)",
   "language": "python",
   "name": "python3"
  },
  "language_info": {
   "codemirror_mode": {
    "name": "ipython",
    "version": 3
   },
   "file_extension": ".py",
   "mimetype": "text/x-python",
   "name": "python",
   "nbconvert_exporter": "python",
   "pygments_lexer": "ipython3",
   "version": "3.10.8"
  }
 },
 "nbformat": 4,
 "nbformat_minor": 4
}
